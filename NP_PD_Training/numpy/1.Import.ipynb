{
 "cells": [
  {
   "cell_type": "markdown",
   "id": "dc23aa1f",
   "metadata": {},
   "source": [
    "Importovanie knižníc"
   ]
  },
  {
   "cell_type": "code",
   "execution_count": null,
   "id": "bcec6f79",
   "metadata": {},
   "outputs": [],
   "source": [
    "import numpy as np #Import numpy\n",
    "\n",
    "from numpy.random import default_rng #Importovanie random funkcie"
   ]
  }
 ],
 "metadata": {
  "language_info": {
   "name": "python"
  }
 },
 "nbformat": 4,
 "nbformat_minor": 5
}
