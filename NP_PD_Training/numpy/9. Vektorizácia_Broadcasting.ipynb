{
 "cells": [
  {
   "cell_type": "markdown",
   "id": "48b7c7bf",
   "metadata": {},
   "source": [
    "Vektorizácia - Proces, kde dáta prehodíme do pôvodného jazyka na ktorom stojí python - C - lepšie písanie loopov "
   ]
  },
  {
   "cell_type": "code",
   "execution_count": 3,
   "id": "4c36d7dd",
   "metadata": {},
   "outputs": [],
   "source": [
    "import numpy as np"
   ]
  },
  {
   "cell_type": "code",
   "execution_count": null,
   "id": "de18f94f",
   "metadata": {},
   "outputs": [],
   "source": [
    "\n",
    "#Klasická python funkcia\n",
    "def loop1(list1,list2):\n",
    "    product_list = []\n",
    "    for element1, element2 in zip(list1,list2):\n",
    "        product_list.append(element1 * element2)\n",
    "        return product_list\n",
    "\n",
    "#Funckia pomocou numpy\n",
    "def loop1_numpy(array1, array2):\n",
    "    return array1 * array2\n",
    "    \n",
    "list1 = list(range(1000))\n",
    "list2 = list(range(1000))"
   ]
  },
  {
   "cell_type": "markdown",
   "id": "8330ea0e",
   "metadata": {},
   "source": [
    "Broadcasting - dovoluje použivať vektorizáciu aj na operácie kde arrays nemajú rovnakú dĺžku"
   ]
  },
  {
   "cell_type": "code",
   "execution_count": 4,
   "id": "1d473b82",
   "metadata": {},
   "outputs": [
    {
     "data": {
      "text/plain": [
       "array([[1, 2, 3],\n",
       "       [1, 2, 3],\n",
       "       [1, 2, 3]])"
      ]
     },
     "execution_count": 4,
     "metadata": {},
     "output_type": "execute_result"
    }
   ],
   "source": [
    "testarray = np.array([[1,2,3],[1,2,3],[1,2,3]])\n",
    "testarray"
   ]
  },
  {
   "cell_type": "code",
   "execution_count": null,
   "id": "a392612c",
   "metadata": {},
   "outputs": [
    {
     "data": {
      "text/plain": [
       "array([[2, 3, 4],\n",
       "       [2, 3, 4],\n",
       "       [2, 3, 4]])"
      ]
     },
     "execution_count": 5,
     "metadata": {},
     "output_type": "execute_result"
    }
   ],
   "source": [
    "testarray + 1                              #Ako to funguje? Automaticky +1 vytvorí maticu 3x3 - ktorá obsahuje 1 a doplní tieto údaje všade kde treba"
   ]
  },
  {
   "cell_type": "code",
   "execution_count": null,
   "id": "c4887a2d",
   "metadata": {},
   "outputs": [
    {
     "data": {
      "text/plain": [
       "array([[3, 4, 5],\n",
       "       [3, 4, 5],\n",
       "       [3, 4, 5]])"
      ]
     },
     "execution_count": 6,
     "metadata": {},
     "output_type": "execute_result"
    }
   ],
   "source": [
    "testarray + np.array([2,2,2])               #Ako to funguje? Máme maticu 3x3 a novu pridávame 1x3 tak ju automaticky vynásobí aby bola 3x3"
   ]
  }
 ],
 "metadata": {
  "kernelspec": {
   "display_name": "Python 3",
   "language": "python",
   "name": "python3"
  },
  "language_info": {
   "codemirror_mode": {
    "name": "ipython",
    "version": 3
   },
   "file_extension": ".py",
   "mimetype": "text/x-python",
   "name": "python",
   "nbconvert_exporter": "python",
   "pygments_lexer": "ipython3",
   "version": "3.13.3"
  }
 },
 "nbformat": 4,
 "nbformat_minor": 5
}
