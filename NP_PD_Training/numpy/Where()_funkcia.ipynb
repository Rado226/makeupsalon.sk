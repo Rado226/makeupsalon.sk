{
 "cells": [
  {
   "cell_type": "markdown",
   "id": "38a9843f",
   "metadata": {},
   "source": [
    "Použitie funkcie where()\n"
   ]
  },
  {
   "cell_type": "code",
   "execution_count": 2,
   "id": "0e1b0399",
   "metadata": {},
   "outputs": [],
   "source": [
    "import numpy as np"
   ]
  },
  {
   "cell_type": "code",
   "execution_count": 36,
   "id": "e2473f9c",
   "metadata": {},
   "outputs": [
    {
     "data": {
      "text/plain": [
       "(10, 0, 2, 0, 0, 4)"
      ]
     },
     "execution_count": 36,
     "metadata": {},
     "output_type": "execute_result"
    }
   ],
   "source": [
    "inventory_array = (10,0,2,0,0,4)\n",
    "new_inventory = np.array(inventory_array)\n",
    "product_array = (\"Mlieko\", \"Jogurt\", \"Syr\", \"Mrkva\", \"Jahoda\", \"Cukriky\")\n",
    "inventory_array\n"
   ]
  },
  {
   "cell_type": "code",
   "execution_count": 37,
   "id": "77ab7cd8",
   "metadata": {},
   "outputs": [
    {
     "data": {
      "text/plain": [
       "array(['Mlieko', 'Vypredané', 'Syr', 'Vypredané', 'Vypredané', 'Cukriky'],\n",
       "      dtype='<U9')"
      ]
     },
     "execution_count": 37,
     "metadata": {},
     "output_type": "execute_result"
    }
   ],
   "source": [
    "np.where(new_inventory == 0, \"Vypredané\",product_array)"
   ]
  },
  {
   "cell_type": "code",
   "execution_count": null,
   "id": "e67c2ed1",
   "metadata": {},
   "outputs": [],
   "source": []
  }
 ],
 "metadata": {
  "kernelspec": {
   "display_name": "Python 3",
   "language": "python",
   "name": "python3"
  },
  "language_info": {
   "codemirror_mode": {
    "name": "ipython",
    "version": 3
   },
   "file_extension": ".py",
   "mimetype": "text/x-python",
   "name": "python",
   "nbconvert_exporter": "python",
   "pygments_lexer": "ipython3",
   "version": "3.13.3"
  }
 },
 "nbformat": 4,
 "nbformat_minor": 5
}
