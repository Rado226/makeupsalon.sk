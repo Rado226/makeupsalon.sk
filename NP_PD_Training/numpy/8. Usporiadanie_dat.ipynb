{
 "cells": [
  {
   "cell_type": "markdown",
   "id": "60f28c65",
   "metadata": {},
   "source": [
    "Usporiadavanie dát pomocou sort (Toto je len ukážka, lepšie je používať pandas na toto)"
   ]
  },
  {
   "cell_type": "code",
   "execution_count": null,
   "id": "863935b7",
   "metadata": {},
   "outputs": [
    {
     "data": {
      "text/plain": [
       "array([[0.67625467, 0.39110955, 0.79736546],\n",
       "       [0.59830875, 0.31675834, 0.67275604],\n",
       "       [0.22733602, 0.18673419, 0.33281393]])"
      ]
     },
     "execution_count": 11,
     "metadata": {},
     "output_type": "execute_result"
    }
   ],
   "source": [
    "import numpy as np\n",
    "array = np.array([[0.22733602, 0.31675834, 0.79736546],\n",
    "                 [0.67625467, 0.39110955, 0.33281393],\n",
    "                 [0.59830875, 0.18673419, 0.67275604]])\n",
    "array.sort(axis=0)                                          #Usporiadanie dát po stlpcoch\n",
    "array[::-1]                                                 # Výmena poradia aby išlo od najväčšieho po najmenšie"
   ]
  },
  {
   "cell_type": "code",
   "execution_count": null,
   "id": "68060dd7",
   "metadata": {},
   "outputs": [],
   "source": []
  }
 ],
 "metadata": {
  "kernelspec": {
   "display_name": "Python 3",
   "language": "python",
   "name": "python3"
  },
  "language_info": {
   "codemirror_mode": {
    "name": "ipython",
    "version": 3
   },
   "file_extension": ".py",
   "mimetype": "text/x-python",
   "name": "python",
   "nbconvert_exporter": "python",
   "pygments_lexer": "ipython3",
   "version": "3.13.3"
  }
 },
 "nbformat": 4,
 "nbformat_minor": 5
}
