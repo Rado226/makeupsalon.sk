{
 "cells": [
  {
   "cell_type": "markdown",
   "id": "99a56991",
   "metadata": {},
   "source": [
    "Použitie Random"
   ]
  },
  {
   "cell_type": "code",
   "execution_count": 2,
   "id": "04a26416",
   "metadata": {},
   "outputs": [],
   "source": [
    "import numpy as np\n",
    "from numpy.random import default_rng"
   ]
  },
  {
   "cell_type": "code",
   "execution_count": null,
   "id": "62ba1bb2",
   "metadata": {},
   "outputs": [
    {
     "data": {
      "text/plain": [
       "np.int64(2)"
      ]
     },
     "execution_count": 9,
     "metadata": {},
     "output_type": "execute_result"
    }
   ],
   "source": [
    "rng = np.random.default_rng(12345)\n",
    "random_array = rng.random(5)            #Náhodné čísla od 0 po 1\n",
    "random_array = rng.normal(5,1,10)       #Náhodné čísla ktoré majú hodnotu okolo 5, stdev 1 a počet je 10\n",
    "random_array = rng.integers(1,20)       #Náhodné čísla ktoré sú integers\n",
    "random_array\n"
   ]
  }
 ],
 "metadata": {
  "kernelspec": {
   "display_name": "Python 3",
   "language": "python",
   "name": "python3"
  },
  "language_info": {
   "codemirror_mode": {
    "name": "ipython",
    "version": 3
   },
   "file_extension": ".py",
   "mimetype": "text/x-python",
   "name": "python",
   "nbconvert_exporter": "python",
   "pygments_lexer": "ipython3",
   "version": "3.13.3"
  }
 },
 "nbformat": 4,
 "nbformat_minor": 5
}
