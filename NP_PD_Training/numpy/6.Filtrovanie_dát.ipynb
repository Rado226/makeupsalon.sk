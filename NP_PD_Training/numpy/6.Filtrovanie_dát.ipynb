{
 "cells": [
  {
   "cell_type": "markdown",
   "id": "aa452b07",
   "metadata": {},
   "source": [
    "Filtrovanie dát"
   ]
  },
  {
   "cell_type": "code",
   "execution_count": 9,
   "id": "80996d0f",
   "metadata": {},
   "outputs": [
    {
     "data": {
      "text/plain": [
       "array([2.26372846, 0.12933826, 0.74082677, 0.92465669, 0.25911535,\n",
       "       1.6488928 , 1.36105811])"
      ]
     },
     "execution_count": 9,
     "metadata": {},
     "output_type": "execute_result"
    }
   ],
   "source": [
    "import numpy as np\n",
    "from numpy.random import default_rng\n",
    "\n",
    "rng = np.random.default_rng(12345)      # Stavíme v tomto prípade random\n",
    "random_array = rng.normal(1,1,10)       # Vytvoríme random_array\n",
    "random_array[random_array > 0]          # Vytvoríme novú maticu ale z dát, ktoré sú len viac ako 0"
   ]
  },
  {
   "cell_type": "code",
   "execution_count": 3,
   "id": "9db60098",
   "metadata": {},
   "outputs": [
    {
     "data": {
      "text/plain": [
       "array([-0.42382504,  2.26372846, -0.3677927 ,  1.6488928 ,  1.36105811,\n",
       "       -0.95286306])"
      ]
     },
     "execution_count": 3,
     "metadata": {},
     "output_type": "execute_result"
    }
   ],
   "source": [
    "random_array[(random_array < 0) | (random_array > 1)] #Rovná čiara sa rovná je Alt Gr + W znamená alebo"
   ]
  },
  {
   "cell_type": "code",
   "execution_count": 4,
   "id": "cb0ad2cd",
   "metadata": {},
   "outputs": [
    {
     "data": {
      "text/plain": [
       "array([-0.42382504,  2.26372846, -0.3677927 ,  1.6488928 ,  1.36105811,\n",
       "       -0.95286306])"
      ]
     },
     "execution_count": 4,
     "metadata": {},
     "output_type": "execute_result"
    }
   ],
   "source": [
    "#Môžeme to urobiť pre lepší kód takto:\n",
    "mask = (random_array < 0) | (random_array > 1)\n",
    "random_array[mask]"
   ]
  },
  {
   "cell_type": "markdown",
   "id": "47bec9c4",
   "metadata": {},
   "source": [
    "Použitie na zistenie čísla delitelného 2"
   ]
  },
  {
   "cell_type": "code",
   "execution_count": null,
   "id": "4d19fc6f",
   "metadata": {},
   "outputs": [
    {
     "data": {
      "text/plain": [
       "array([ True, False,  True, False,  True, False,  True, False,  True,\n",
       "       False,  True, False,  True, False,  True, False,  True, False,\n",
       "        True, False])"
      ]
     },
     "execution_count": 12,
     "metadata": {},
     "output_type": "execute_result"
    }
   ],
   "source": [
    "my_array = np.arange(20)\n",
    "my_array % 2 == 0               "
   ]
  },
  {
   "cell_type": "code",
   "execution_count": 14,
   "id": "3f840d17",
   "metadata": {},
   "outputs": [
    {
     "data": {
      "text/plain": [
       "array([ 0,  2,  4,  6,  8, 10, 12, 14, 16, 18])"
      ]
     },
     "execution_count": 14,
     "metadata": {},
     "output_type": "execute_result"
    }
   ],
   "source": [
    "my_array[my_array % 2 == 0]"
   ]
  },
  {
   "cell_type": "markdown",
   "id": "5ec198f3",
   "metadata": {},
   "source": []
  },
  {
   "cell_type": "code",
   "execution_count": 15,
   "id": "304fda3b",
   "metadata": {},
   "outputs": [
    {
     "data": {
      "text/plain": [
       "array([False,  True, False,  True, False,  True, False,  True, False,\n",
       "        True, False,  True, False,  True, False,  True, False,  True,\n",
       "       False,  True])"
      ]
     },
     "execution_count": 15,
     "metadata": {},
     "output_type": "execute_result"
    }
   ],
   "source": [
    "even_odd = np.array([\"Even\",\"Odd\"]*10)\n",
    "even_odd != \"Even\""
   ]
  },
  {
   "cell_type": "code",
   "execution_count": null,
   "id": "b3ba0bf2",
   "metadata": {},
   "outputs": [],
   "source": [
    "#Filtrovanie na základe iného riadku môže byť že\n",
    "array1  = array1(array3 == \"Hodnota\")"
   ]
  }
 ],
 "metadata": {
  "kernelspec": {
   "display_name": "Python 3",
   "language": "python",
   "name": "python3"
  },
  "language_info": {
   "codemirror_mode": {
    "name": "ipython",
    "version": 3
   },
   "file_extension": ".py",
   "mimetype": "text/x-python",
   "name": "python",
   "nbconvert_exporter": "python",
   "pygments_lexer": "ipython3",
   "version": "3.13.3"
  }
 },
 "nbformat": 4,
 "nbformat_minor": 5
}
