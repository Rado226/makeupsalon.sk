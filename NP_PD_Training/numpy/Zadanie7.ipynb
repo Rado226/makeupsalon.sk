{
 "cells": [
  {
   "cell_type": "code",
   "execution_count": null,
   "id": "0a5eacc8",
   "metadata": {},
   "outputs": [],
   "source": [
    "import numpy as np\n",
    "prices = np.array([5.99,6.99,22.49,99.99,4.99,49.99])\n"
   ]
  },
  {
   "cell_type": "code",
   "execution_count": 10,
   "id": "c5d1cbc1",
   "metadata": {},
   "outputs": [
    {
     "data": {
      "text/plain": [
       "np.float64(49.99)"
      ]
     },
     "execution_count": 10,
     "metadata": {},
     "output_type": "execute_result"
    }
   ],
   "source": [
    "prices.sort()\n",
    "top_price = prices[::-1]\n",
    "new_top = top_price[:3]\n",
    "new_top.mean()\n",
    "new_top.min()\n",
    "new_top.max()\n",
    "np.median(new_top)"
   ]
  },
  {
   "cell_type": "code",
   "execution_count": 14,
   "id": "171dd54e",
   "metadata": {},
   "outputs": [
    {
     "data": {
      "text/plain": [
       "array([6])"
      ]
     },
     "execution_count": 14,
     "metadata": {},
     "output_type": "execute_result"
    }
   ],
   "source": [
    "products = np.array([\"salad\",\"bread\",\"mustard\", \"rate tomato\", \"cola\", \"gourmet ice cream\"])  \n",
    "np.unique(products.size)"
   ]
  },
  {
   "cell_type": "code",
   "execution_count": null,
   "id": "8f905256",
   "metadata": {},
   "outputs": [],
   "source": []
  }
 ],
 "metadata": {
  "kernelspec": {
   "display_name": "Python 3",
   "language": "python",
   "name": "python3"
  },
  "language_info": {
   "codemirror_mode": {
    "name": "ipython",
    "version": 3
   },
   "file_extension": ".py",
   "mimetype": "text/x-python",
   "name": "python",
   "nbconvert_exporter": "python",
   "pygments_lexer": "ipython3",
   "version": "3.13.3"
  }
 },
 "nbformat": 4,
 "nbformat_minor": 5
}
