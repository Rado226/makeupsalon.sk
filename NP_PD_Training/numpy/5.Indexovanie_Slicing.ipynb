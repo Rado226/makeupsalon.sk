{
 "cells": [
  {
   "cell_type": "markdown",
   "id": "3e4dbea5",
   "metadata": {},
   "source": [
    "Indexovanie dát a ich slicovanie"
   ]
  },
  {
   "cell_type": "code",
   "execution_count": 1,
   "id": "8ec8f4d7",
   "metadata": {},
   "outputs": [],
   "source": [
    "import numpy as np"
   ]
  },
  {
   "cell_type": "code",
   "execution_count": null,
   "id": "232a9773",
   "metadata": {},
   "outputs": [],
   "source": [
    "product_array = np.array([\"Jablko\",\"Hruška\", \"Med\", \"Zemla\",\"Auto\"])\n",
    "print(product_array[1])                                                 #Vyberie jednu hodnotu z listu\n",
    "print(product_array[:2])                                                #Vysekne hodnotu z listu - Prvé 2 a ostatné odsekne\n",
    "print(product_array[2:])                                                #Vyseknutie prvých 2 hodnôt a ostatné ostáva\n",
    "product_array[::2]                                                      #Každý druhý element berieme \n",
    "product_array[-1,-1]                                                    #Posledný element"
   ]
  }
 ],
 "metadata": {
  "kernelspec": {
   "display_name": "Python 3",
   "language": "python",
   "name": "python3"
  },
  "language_info": {
   "codemirror_mode": {
    "name": "ipython",
    "version": 3
   },
   "file_extension": ".py",
   "mimetype": "text/x-python",
   "name": "python",
   "nbconvert_exporter": "python",
   "pygments_lexer": "ipython3",
   "version": "3.13.3"
  }
 },
 "nbformat": 4,
 "nbformat_minor": 5
}
