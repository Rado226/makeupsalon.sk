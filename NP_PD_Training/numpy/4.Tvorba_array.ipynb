{
 "cells": [
  {
   "cell_type": "markdown",
   "id": "8a98b7b2",
   "metadata": {},
   "source": [
    "Vytváranie array (ones, zeros, arange, linspace)"
   ]
  },
  {
   "cell_type": "code",
   "execution_count": null,
   "id": "a1113bb5",
   "metadata": {},
   "outputs": [
    {
     "data": {
      "text/plain": [
       "array([[0, 1, 2, 3, 4],\n",
       "       [0, 1, 2, 3, 4]])"
      ]
     },
     "execution_count": 3,
     "metadata": {},
     "output_type": "execute_result"
    }
   ],
   "source": [
    "import numpy as np\n",
    "np.ones(4,)                     #Matica plná jednotiek\n",
    "np.zeros((2,2),dtype=int)       #Matica plná 0\n",
    "np.array([range(5),range(5)])   #Matica 2*1\n",
    "np.arange(1,10,2)               #Matica na základe min,max,krok\n",
    "np.linspace(1,10,5)             #Matica na základe min,max,počet\n",
    "np.identity(5)                  #Matica plná 0 okrem hlavného riadku"
   ]
  },
  {
   "cell_type": "code",
   "execution_count": 4,
   "id": "590e4bd4",
   "metadata": {},
   "outputs": [
    {
     "data": {
      "text/plain": [
       "array(['Even', 'Odd', 'Even', 'Odd', 'Even', 'Odd', 'Even', 'Odd', 'Even',\n",
       "       'Odd', 'Even', 'Odd', 'Even', 'Odd', 'Even', 'Odd', 'Even', 'Odd',\n",
       "       'Even', 'Odd'], dtype='<U4')"
      ]
     },
     "execution_count": 4,
     "metadata": {},
     "output_type": "execute_result"
    }
   ],
   "source": [
    "even_odd = np.array([\"Even\",\"Odd\"]*10)\n",
    "even_odd"
   ]
  },
  {
   "cell_type": "markdown",
   "id": "003ea42a",
   "metadata": {},
   "source": []
  }
 ],
 "metadata": {
  "kernelspec": {
   "display_name": "Python 3",
   "language": "python",
   "name": "python3"
  },
  "language_info": {
   "codemirror_mode": {
    "name": "ipython",
    "version": 3
   },
   "file_extension": ".py",
   "mimetype": "text/x-python",
   "name": "python",
   "nbconvert_exporter": "python",
   "pygments_lexer": "ipython3",
   "version": "3.13.3"
  }
 },
 "nbformat": 4,
 "nbformat_minor": 5
}
