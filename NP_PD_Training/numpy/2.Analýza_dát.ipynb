{
 "cells": [
  {
   "cell_type": "markdown",
   "id": "c041b71a",
   "metadata": {},
   "source": [
    "Analýza dát a zmena štruktúry"
   ]
  },
  {
   "cell_type": "code",
   "execution_count": null,
   "id": "a7177cf7",
   "metadata": {},
   "outputs": [
    {
     "data": {
      "text/plain": [
       "array([[0.        , 1.        , 1.41421356, 1.73205081, 2.        ],\n",
       "       [0.        , 1.        , 1.41421356, 1.73205081, 2.        ]])"
      ]
     },
     "execution_count": 15,
     "metadata": {},
     "output_type": "execute_result"
    }
   ],
   "source": [
    "import numpy as np\n",
    "array = np.array([[0, 1, 2, 3, 4],\n",
    "                 [0, 1, 2, 3, 4]])\n",
    "array.shape                 #Funkcia na zistenie formátu napr. (2,1)\n",
    "array.size                  #Funkcia na zistenie veľkosti / počtu prvkov (50)\n",
    "array.ndim                  #Funckcia na zistenie počtu dimenzií \n",
    "array.dtype                 #Funkcia na zistenie typu dát v matici / vektore\n",
    "array.reshape(5,2)          #Zmení štuktúru funkcie\n",
    "array.sum()                 #Zobrazí sumár všetkých premenných\n",
    "array.sum(axis=0)           #Zobrazí súmar ale pre všetky stlpce samostatne\n",
    "array.sum(axis=1)           #Zobrazí súmar ale pre všetky riadky samostatne\n",
    "array.mean()                #Priemerná hodnota\n",
    "array.std()                 #Štandardná odchýlka - np.std(array) druhý spôsob zápisu\n",
    "array.max()                 #Max hodnota\n",
    "array.min()                 #Min hodnota\n",
    "np.median(array)            # Stredová hodnota priemeru\n",
    "np.percentile(array,50)     #Percentil dát - zadáme maticu a percent a zistíme aké číslo reprezentuje koľko %\n",
    "np.unique(array)            #Zobrazí len unikátne hodnoty\n",
    "np.sqrt(array)              #Odmocnina každého čísla"
   ]
  },
  {
   "cell_type": "markdown",
   "id": "dd015d12",
   "metadata": {},
   "source": [
    "Premena dát na iný formát"
   ]
  },
  {
   "cell_type": "code",
   "execution_count": null,
   "id": "530be70f",
   "metadata": {},
   "outputs": [
    {
     "data": {
      "text/plain": [
       "array([[0., 1., 2., 3., 4.],\n",
       "       [0., 1., 2., 3., 4.]])"
      ]
     },
     "execution_count": 6,
     "metadata": {},
     "output_type": "execute_result"
    }
   ],
   "source": [
    "array.astype(int)           #Premena dát na int \n",
    "array.astype(float)         #Premena dát na float "
   ]
  }
 ],
 "metadata": {
  "kernelspec": {
   "display_name": "Python 3",
   "language": "python",
   "name": "python3"
  },
  "language_info": {
   "codemirror_mode": {
    "name": "ipython",
    "version": 3
   },
   "file_extension": ".py",
   "mimetype": "text/x-python",
   "name": "python",
   "nbconvert_exporter": "python",
   "pygments_lexer": "ipython3",
   "version": "3.13.3"
  }
 },
 "nbformat": 4,
 "nbformat_minor": 5
}
