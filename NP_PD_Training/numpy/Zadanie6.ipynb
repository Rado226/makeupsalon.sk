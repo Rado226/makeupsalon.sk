{
 "cells": [
  {
   "cell_type": "markdown",
   "id": "d0630457",
   "metadata": {},
   "source": [
    "Dobrý deň,\n",
    "\n",
    "potrebujeme vykonať analýzu objednávok zákazníkov za posledný rok, aby sme identifikovali najpredávanejšie produkty, priemernú hodnotu objednávky a sezónne trendy. Výstupy budú slúžiť na optimalizáciu skladových zásob a marketingových kampaní.\n",
    "\n",
    "Úlohy:\n",
    "Vytvorenie datasetu: Pracuj s poskytnutým datasetom obsahujúcim: ID objednávky, produkt, počet kusov, cena za kus, dátum objednávky.\n",
    "\n",
    "Výpočet základných metrík: Urči priemernú hodnotu objednávky a celkový ročný obrat.\n",
    "\n",
    "Identifikácia najpredávanejších produktov: Nájdeme TOP 5 produktov podľa počtu predaných kusov.\n",
    "\n",
    "Analýza sezónnosti: Rozdeľ objednávky podľa mesiacov a urči, v ktorých obdobiach sú najvyššie predaje.\n",
    "\n",
    "Filtrovanie dát: Identifikuj zákazníkov s objednávkami nad určitú hodnotu.\n",
    "\n",
    "Generovanie reportu: Na záver priprav krátke zhrnutie vo forme prehľadného výstupu."
   ]
  },
  {
   "cell_type": "code",
   "execution_count": 24,
   "id": "1da11b4f",
   "metadata": {},
   "outputs": [],
   "source": [
    "import numpy as np"
   ]
  },
  {
   "cell_type": "code",
   "execution_count": 25,
   "id": "32887659",
   "metadata": {},
   "outputs": [],
   "source": [
    "data = np.array([\n",
    "    [1001, \"Notebook\", 2, 1200, \"2024-01-15\"],\n",
    "    [1002, \"Smartphone\", 1, 800, \"2024-02-10\"],\n",
    "    [1003, \"Monitor\", 3, 300, \"2024-03-05\"],\n",
    "    [1004, \"Klávesnica\", 5, 50, \"2024-04-22\"],\n",
    "    [1005, \"Myš\", 4, 40, \"2024-05-17\"],\n",
    "    [1006, \"Tablet\", 1, 500, \"2024-06-30\"],\n",
    "    [1007, \"Slúchadlá\", 2, 150, \"2024-07-25\"],\n",
    "    [1008, \"Externý disk\", 3, 100, \"2024-08-09\"],\n",
    "    [1009, \"Grafická karta\", 1, 700, \"2024-09-14\"],\n",
    "    [1010, \"Procesor\", 1, 400, \"2024-10-01\"]\n",
    "])"
   ]
  },
  {
   "cell_type": "markdown",
   "id": "e941bc79",
   "metadata": {},
   "source": [
    "1. časť - priemerná hodnota objednávok"
   ]
  },
  {
   "cell_type": "code",
   "execution_count": null,
   "id": "229a8bc7",
   "metadata": {},
   "outputs": [
    {
     "data": {
      "text/plain": [
       "np.float64(424.0)"
      ]
     },
     "execution_count": 26,
     "metadata": {},
     "output_type": "execute_result"
    }
   ],
   "source": [
    "prices = data[:,3].astype(int) # Premenili sme dáta na int aby sme zistili ich mean\n",
    "prices.mean()                   # Mean\n"
   ]
  },
  {
   "cell_type": "markdown",
   "id": "468ab980",
   "metadata": {},
   "source": [
    "2. Ročný obrat výpočet"
   ]
  },
  {
   "cell_type": "code",
   "execution_count": 33,
   "id": "6846cc5b",
   "metadata": {},
   "outputs": [
    {
     "data": {
      "text/plain": [
       "np.int64(6710)"
      ]
     },
     "execution_count": 33,
     "metadata": {},
     "output_type": "execute_result"
    }
   ],
   "source": [
    "amouth = data[:,2].astype(int)\n",
    "amouth\n",
    "total = (amouth * prices).sum()\n",
    "total\n"
   ]
  },
  {
   "cell_type": "markdown",
   "id": "c7003162",
   "metadata": {},
   "source": [
    "3. TOP 5 najpredávanejších produktov"
   ]
  },
  {
   "cell_type": "code",
   "execution_count": null,
   "id": "d7cbc80a",
   "metadata": {},
   "outputs": [
    {
     "data": {
      "text/plain": [
       "array([0])"
      ]
     },
     "execution_count": 47,
     "metadata": {},
     "output_type": "execute_result"
    }
   ],
   "source": []
  },
  {
   "cell_type": "code",
   "execution_count": null,
   "id": "9dd18e36",
   "metadata": {},
   "outputs": [
    {
     "data": {
      "text/plain": [
       "array([['1001', 'Notebook', '2', '1200', '2024-01-15']], dtype='<U21')"
      ]
     },
     "execution_count": 44,
     "metadata": {},
     "output_type": "execute_result"
    }
   ],
   "source": []
  },
  {
   "cell_type": "code",
   "execution_count": null,
   "id": "4725dd26",
   "metadata": {},
   "outputs": [],
   "source": []
  }
 ],
 "metadata": {
  "kernelspec": {
   "display_name": "Python 3",
   "language": "python",
   "name": "python3"
  },
  "language_info": {
   "codemirror_mode": {
    "name": "ipython",
    "version": 3
   },
   "file_extension": ".py",
   "mimetype": "text/x-python",
   "name": "python",
   "nbconvert_exporter": "python",
   "pygments_lexer": "ipython3",
   "version": "3.13.3"
  }
 },
 "nbformat": 4,
 "nbformat_minor": 5
}
