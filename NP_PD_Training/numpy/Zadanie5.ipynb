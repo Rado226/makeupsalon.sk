{
 "cells": [
  {
   "cell_type": "markdown",
   "id": "5c2bc8d4",
   "metadata": {},
   "source": [
    "Zadanie: Vyfiltruj dáta, ktoré sú väčšie ako 25, následne uprav list aby cola bola v tomto liste na pozícií [1], a následne shiping logiku, ak je číslo väčšie ako 20, zmeň poštovné na 0."
   ]
  },
  {
   "cell_type": "code",
   "execution_count": 1,
   "id": "bc2a8851",
   "metadata": {},
   "outputs": [],
   "source": [
    "import numpy as np"
   ]
  },
  {
   "cell_type": "code",
   "execution_count": 4,
   "id": "fc79be8e",
   "metadata": {},
   "outputs": [],
   "source": [
    "products = np.array([\"salad\",\"bread\",\"mustard\", \"rate tomato\", \"cola\", \"gourmet ice cream\"])        # Vytvorenie product array\n",
    "prices = np.array([5.99,6.99,22.49,99.99,4.99,49.99])                                               # Vytvorenie price array\n",
    "\n"
   ]
  },
  {
   "cell_type": "code",
   "execution_count": 19,
   "id": "2241d22c",
   "metadata": {},
   "outputs": [
    {
     "data": {
      "text/plain": [
       "array(['rate tomato', 'cola', 'gourmet ice cream'], dtype='<U17')"
      ]
     },
     "execution_count": 19,
     "metadata": {},
     "output_type": "execute_result"
    }
   ],
   "source": [
    "mask = (prices > 25) | (products == \"cola\")\n",
    "list = products[mask]\n",
    "list"
   ]
  },
  {
   "cell_type": "code",
   "execution_count": 22,
   "id": "9cd41b65",
   "metadata": {},
   "outputs": [
    {
     "data": {
      "text/plain": [
       "array([5, 5, 5, 0, 5, 0])"
      ]
     },
     "execution_count": 22,
     "metadata": {},
     "output_type": "execute_result"
    }
   ],
   "source": [
    "np.where(prices > 25,0,5)"
   ]
  },
  {
   "cell_type": "code",
   "execution_count": 2,
   "id": "74db4cd9",
   "metadata": {},
   "outputs": [],
   "source": [
    "import numpy as np\n",
    "from numpy.random import default_rng"
   ]
  },
  {
   "cell_type": "code",
   "execution_count": 8,
   "id": "ea20e7bc",
   "metadata": {},
   "outputs": [
    {
     "data": {
      "text/plain": [
       "array([ 2.88087482, 16.31864229,  5.64669131,  8.70413383,  9.62328346,\n",
       "        6.29557674,  3.16103649, 13.24446401, 11.80529057,  0.23568468,\n",
       "       21.73704827, 14.84248453,  6.2030641 , 14.51099137,  7.66523413,\n",
       "        9.69655241, 13.94422172,  3.71665933, 12.87928757, 16.99489497])"
      ]
     },
     "execution_count": 8,
     "metadata": {},
     "output_type": "execute_result"
    }
   ],
   "source": [
    "rng = np.random.default_rng(12345)\n",
    "list = rng.normal(10,5,20)\n",
    "list"
   ]
  },
  {
   "cell_type": "markdown",
   "id": "86583916",
   "metadata": {},
   "source": [
    "Hodnota nezaradeného majetku"
   ]
  },
  {
   "cell_type": "code",
   "execution_count": 12,
   "id": "bb3909ae",
   "metadata": {},
   "outputs": [
    {
     "data": {
      "text/plain": [
       "20"
      ]
     },
     "execution_count": 12,
     "metadata": {},
     "output_type": "execute_result"
    }
   ],
   "source": [
    "list.size"
   ]
  },
  {
   "cell_type": "code",
   "execution_count": 13,
   "id": "d7bb454a",
   "metadata": {},
   "outputs": [
    {
     "data": {
      "text/plain": [
       "np.float64(200.1061166124889)"
      ]
     },
     "execution_count": 13,
     "metadata": {},
     "output_type": "execute_result"
    }
   ],
   "source": [
    "list.sum()"
   ]
  }
 ],
 "metadata": {
  "kernelspec": {
   "display_name": "Python 3",
   "language": "python",
   "name": "python3"
  },
  "language_info": {
   "codemirror_mode": {
    "name": "ipython",
    "version": 3
   },
   "file_extension": ".py",
   "mimetype": "text/x-python",
   "name": "python",
   "nbconvert_exporter": "python",
   "pygments_lexer": "ipython3",
   "version": "3.13.3"
  }
 },
 "nbformat": 4,
 "nbformat_minor": 5
}
