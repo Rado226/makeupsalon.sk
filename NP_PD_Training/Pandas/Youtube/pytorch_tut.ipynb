{
 "cells": [
  {
   "cell_type": "code",
   "execution_count": 30,
   "id": "0b0504ba",
   "metadata": {},
   "outputs": [],
   "source": [
    "import torch\n",
    "import numpy as np"
   ]
  },
  {
   "cell_type": "markdown",
   "id": "0c8349a0",
   "metadata": {},
   "source": [
    "Tutorial na použitie pytorch"
   ]
  },
  {
   "cell_type": "markdown",
   "id": "a539cdcb",
   "metadata": {},
   "source": [
    "Základom pytorch je tensor, ktorý môžeme vytvárať následovne:"
   ]
  },
  {
   "cell_type": "code",
   "execution_count": 31,
   "id": "c6b1222c",
   "metadata": {},
   "outputs": [
    {
     "name": "stdout",
     "output_type": "stream",
     "text": [
      "tensor([[0., 0.],\n",
      "        [0., 0.]])\n",
      "tensor([[0.5802, 0.1043],\n",
      "        [0.2356, 0.7495]])\n",
      "tensor([[3., 0.],\n",
      "        [4., 0.]])\n",
      "tensor([[1., 1.],\n",
      "        [1., 1.]])\n",
      "tensor([2.5000, 4.0000, 4.0000])\n"
     ]
    }
   ],
   "source": [
    "x = torch.zeros(2,2)\n",
    "y = torch.rand(2,2)\n",
    "z = torch.empty(2,2)\n",
    "n = torch.ones(2,2)\n",
    "d = torch.tensor([2.5,4,4])\n",
    "print(f\"{x}\")\n",
    "print(f\"{y}\")\n",
    "print(f\"{z}\")\n",
    "print(f\"{n}\")\n",
    "print(f\"{d}\")"
   ]
  },
  {
   "cell_type": "markdown",
   "id": "25a2c22f",
   "metadata": {},
   "source": [
    "Matematické operácie"
   ]
  },
  {
   "cell_type": "code",
   "execution_count": 32,
   "id": "57d3c1fd",
   "metadata": {},
   "outputs": [],
   "source": [
    "add1 = torch.add(y,n)\n",
    "sub1 = torch.sub(y,n)\n",
    "mul1 = torch.mul(y,n)\n",
    "div1 = torch.div(y,n)\n"
   ]
  },
  {
   "cell_type": "markdown",
   "id": "3dd167b9",
   "metadata": {},
   "source": [
    "Slicing v torch"
   ]
  },
  {
   "cell_type": "code",
   "execution_count": 33,
   "id": "f57863ed",
   "metadata": {},
   "outputs": [
    {
     "name": "stdout",
     "output_type": "stream",
     "text": [
      "tensor([0.6104, 0.8086, 0.6495, 0.9549, 0.4313])\n"
     ]
    }
   ],
   "source": [
    "x = torch.rand(5,5)\n",
    "print(x[:,0])"
   ]
  },
  {
   "cell_type": "markdown",
   "id": "b991b82f",
   "metadata": {},
   "source": [
    "Reshape funkcia v torch"
   ]
  },
  {
   "cell_type": "code",
   "execution_count": 34,
   "id": "f27c2ab6",
   "metadata": {},
   "outputs": [
    {
     "data": {
      "text/plain": [
       "tensor([[0.6104, 0.6573, 0.6878, 0.8143, 0.7850],\n",
       "        [0.8086, 0.2532, 0.6449, 0.0842, 0.8767],\n",
       "        [0.6495, 0.7377, 0.6215, 0.2553, 0.4140],\n",
       "        [0.9549, 0.9569, 0.0830, 0.4575, 0.9673],\n",
       "        [0.4313, 0.3326, 0.4705, 0.4767, 0.4020]])"
      ]
     },
     "execution_count": 34,
     "metadata": {},
     "output_type": "execute_result"
    }
   ],
   "source": [
    "y = x.view(25)\n",
    "y = x.view(-1,5)\n",
    "y"
   ]
  },
  {
   "cell_type": "code",
   "execution_count": 35,
   "id": "c1fb4245",
   "metadata": {},
   "outputs": [
    {
     "data": {
      "text/plain": [
       "torch.Size([5, 5])"
      ]
     },
     "execution_count": 35,
     "metadata": {},
     "output_type": "execute_result"
    }
   ],
   "source": [
    "y.size()"
   ]
  },
  {
   "cell_type": "markdown",
   "id": "1b52173e",
   "metadata": {},
   "source": [
    "Konverzia torch to np "
   ]
  },
  {
   "cell_type": "code",
   "execution_count": 36,
   "id": "b8d7582a",
   "metadata": {},
   "outputs": [
    {
     "data": {
      "text/plain": [
       "array([0.26722932, 0.8596515 , 0.07108212, 0.69428295, 0.00237751],\n",
       "      dtype=float32)"
      ]
     },
     "execution_count": 36,
     "metadata": {},
     "output_type": "execute_result"
    }
   ],
   "source": [
    "a = torch.rand(5)\n",
    "b = a.numpy()\n",
    "b"
   ]
  },
  {
   "cell_type": "code",
   "execution_count": 37,
   "id": "da77938e",
   "metadata": {},
   "outputs": [
    {
     "data": {
      "text/plain": [
       "tensor([0.2672, 0.8597, 0.0711, 0.6943, 0.0024])"
      ]
     },
     "execution_count": 37,
     "metadata": {},
     "output_type": "execute_result"
    }
   ],
   "source": [
    "c = torch.from_numpy(b)\n",
    "c"
   ]
  },
  {
   "cell_type": "markdown",
   "id": "04abe043",
   "metadata": {},
   "source": [
    "Keď zmeníme a neskôr a máme b ktoré je konvertované z a, tak sú uložené v rovnakej pamäti, a zmení sa aj b"
   ]
  },
  {
   "cell_type": "code",
   "execution_count": 38,
   "id": "89b9584b",
   "metadata": {},
   "outputs": [
    {
     "data": {
      "text/plain": [
       "tensor([1.2672, 1.8597, 1.0711, 1.6943, 1.0024])"
      ]
     },
     "execution_count": 38,
     "metadata": {},
     "output_type": "execute_result"
    }
   ],
   "source": [
    "a.add_(1)"
   ]
  },
  {
   "cell_type": "code",
   "execution_count": 39,
   "id": "6d21e867",
   "metadata": {},
   "outputs": [
    {
     "data": {
      "text/plain": [
       "array([1.2672293, 1.8596516, 1.0710821, 1.694283 , 1.0023775],\n",
       "      dtype=float32)"
      ]
     },
     "execution_count": 39,
     "metadata": {},
     "output_type": "execute_result"
    }
   ],
   "source": [
    "b"
   ]
  },
  {
   "cell_type": "markdown",
   "id": "8485dda7",
   "metadata": {},
   "source": [
    "Použitie autograd v pytorch"
   ]
  },
  {
   "cell_type": "code",
   "execution_count": 40,
   "id": "22daa5e1",
   "metadata": {},
   "outputs": [
    {
     "name": "stdout",
     "output_type": "stream",
     "text": [
      "tensor([3., 3., 3., 3.])\n",
      "tensor([3., 3., 3., 3.])\n",
      "tensor([3., 3., 3., 3.])\n"
     ]
    }
   ],
   "source": [
    "weights = torch.ones(4, requires_grad=True)\n",
    "\n",
    "for epoch in range(3):\n",
    "    model_output = (weights*3).sum()\n",
    "    model_output.backward()\n",
    "    print(weights.grad)\n",
    "    weights.grad.zero_()"
   ]
  },
  {
   "cell_type": "markdown",
   "id": "0aec8ea7",
   "metadata": {},
   "source": [
    "Vysvetlenie pomocou numpy, bez použitia pytorch"
   ]
  },
  {
   "cell_type": "code",
   "execution_count": 3,
   "id": "ca25a3ab",
   "metadata": {},
   "outputs": [
    {
     "name": "stdout",
     "output_type": "stream",
     "text": [
      "Prediction before training: f(5) = 0.0\n",
      "epoch 1: w = 3.000, loss = 187.50000000\n",
      "epoch 3: w = 4.680, loss = 4.80000210\n",
      "epoch 5: w = 4.949, loss = 0.12288050\n",
      "epoch 7: w = 4.992, loss = 0.00314578\n",
      "epoch 9: w = 4.999, loss = 0.00008053\n",
      "epoch 11: w = 5.000, loss = 0.00000206\n",
      "epoch 13: w = 5.000, loss = 0.00000005\n",
      "epoch 15: w = 5.000, loss = 0.00000000\n",
      "epoch 17: w = 5.000, loss = 0.00000000\n",
      "epoch 19: w = 5.000, loss = 0.00000000\n"
     ]
    }
   ],
   "source": [
    "import numpy as np  # Numpy je knižnica pre prácu s poľami (vektormi, maticami) a numerickými výpočtami\n",
    "\n",
    "# Trénovacie dáta – jednoduchá lineárna závislosť\n",
    "# X sú vstupné dáta (napr. 1 hodina, 2 hodiny,... práce)\n",
    "# Y sú výstupy (napr. 2 €, 4 €,... odmena) → teda Y = 2 * X\n",
    "X = np.array([1,2,3,4], dtype=np.float32)\n",
    "Y = np.array([5,10,15,20], dtype=np.float32)\n",
    "\n",
    "# Začiatočná hodnota váhy (parametra) w. Zatiaľ ho nastavíme na 0.\n",
    "# Tento parameter sa bude počas učenia upravovať tak, aby sa znížila chyba medzi predikciou a reálnymi hodnotami.\n",
    "w = 0.0\n",
    "\n",
    "\n",
    "# -------------------------------------------\n",
    "# FUNKCIA NA PREDIKCIU – tzv. FORWARD PASS\n",
    "# -------------------------------------------\n",
    "def forward(x):\n",
    "    return w * x  # Predikcia: výstup modelu je jednoducho vstup * váha (w), pretože ide o lineárnu funkciu y = w * x\n",
    "\n",
    "\n",
    "# -------------------------------------------\n",
    "# FUNKCIA NA VÝPOČET CHYBY – tzv. LOSS\n",
    "# -------------------------------------------\n",
    "def loss(y, y_predicted):\n",
    "    # Výpočet strednej štvorcovej chyby – Mean Squared Error (MSE)\n",
    "    # (y_predicted - y) ** 2 → rozdiel medzi predikciou a skutočnosťou, na druhú (aby sme eliminovali záporné hodnoty)\n",
    "    # .mean() → spriemerujeme všetky tieto chyby\n",
    "    return ((y_predicted - y) ** 2).mean()\n",
    "\n",
    "\n",
    "# -------------------------------------------\n",
    "# FUNKCIA NA VÝPOČET GRADIENTU (Sklon chyby podľa váhy w)\n",
    "# -------------------------------------------\n",
    "def gradient(x, y, y_predicted):\n",
    "    # Gradient určuje, ako rýchlo a ktorým smerom sa mení chyba, keď meníme parameter w.\n",
    "    # Používa sa pri optimalizácii, aby sme vedeli, ako upraviť w.\n",
    "    # Derivácia loss funkcie podľa w je: dL/dw = 2 * x * (y_pred - y)\n",
    "    # Používame np.dot – skalárny súčin medzi x a (y_pred - y)\n",
    "    # .mean() → priemerujeme hodnoty pre všetky vzorky\n",
    "    return np.dot(2 * x, y_predicted - y).mean()\n",
    "\n",
    "\n",
    "# -------------------------------------------\n",
    "# VÝSTUP PRED ZAČIATKOM TRÉNOVANIA\n",
    "# -------------------------------------------\n",
    "# Skontrolujeme, čo model predikuje pred učením pre vstup x=5\n",
    "# Keďže w=0, výsledok bude 0 (lebo 0 * 5 = 0)\n",
    "print(f\"Prediction before training: f(5) = {forward(5)}\")\n",
    "\n",
    "\n",
    "# -------------------------------------------\n",
    "# HYPERPARAMETRE A TRÉNINGOVÁ SLUČKA\n",
    "# -------------------------------------------\n",
    "learning_rate = 0.01   # Určuje veľkosť kroku, ktorým sa posúvame pri aktualizácii váhy\n",
    "n_iters = 20           # Počet epoch – koľkokrát prejdeme celé trénovacie dáta\n",
    "\n",
    "# TRÉNINGOVÝ CYKLUS\n",
    "for epoch in range(n_iters):\n",
    "    # KROK 1: Výpočet predikcií pre všetky vstupy pomocou aktuálnej hodnoty w\n",
    "    y_pred = forward(X)  # napr. ak w=2, predikcia bude [2,4,6,8]\n",
    "\n",
    "    # KROK 2: Výpočet chyby (loss) medzi predikciou a reálnymi výstupmi\n",
    "    l = loss(Y, y_pred)\n",
    "\n",
    "    # KROK 3: Výpočet gradientu – ako veľmi sa zmení chyba, ak upravíme w\n",
    "    dw = gradient(X, Y, y_pred)\n",
    "\n",
    "    # KROK 4: Aktualizácia váhy – ideme smerom znižovania chyby (negatívny gradient)\n",
    "    w -= learning_rate * dw  # gradient descent: nový w = starý w - učenie * gradient\n",
    "\n",
    "    # KAŽDÝ 2. EPOCH VYPIŠE STAV UČENIA\n",
    "    if epoch % 2 == 0:\n",
    "        print(f\"epoch {epoch+1}: w = {w:.3f}, loss = {l:.8f}\")\n",
    "\n",
    "# Po trénovaní bude w približne 2 (lebo skutočný vzťah bol Y = 2*X)\n",
    "\n"
   ]
  },
  {
   "cell_type": "code",
   "execution_count": null,
   "id": "73f47221",
   "metadata": {},
   "outputs": [],
   "source": []
  }
 ],
 "metadata": {
  "kernelspec": {
   "display_name": "Python 3",
   "language": "python",
   "name": "python3"
  },
  "language_info": {
   "codemirror_mode": {
    "name": "ipython",
    "version": 3
   },
   "file_extension": ".py",
   "mimetype": "text/x-python",
   "name": "python",
   "nbconvert_exporter": "python",
   "pygments_lexer": "ipython3",
   "version": "3.13.3"
  }
 },
 "nbformat": 4,
 "nbformat_minor": 5
}
