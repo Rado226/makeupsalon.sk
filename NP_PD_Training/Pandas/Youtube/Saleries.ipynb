{
 "cells": [
  {
   "cell_type": "code",
   "execution_count": 146,
   "id": "187c29fb",
   "metadata": {},
   "outputs": [],
   "source": [
    "import pandas as pd\n",
    "import numpy as np"
   ]
  },
  {
   "cell_type": "code",
   "execution_count": 93,
   "id": "a60c9d3f",
   "metadata": {},
   "outputs": [
    {
     "name": "stderr",
     "output_type": "stream",
     "text": [
      "C:\\Users\\Kika\\AppData\\Local\\Temp\\ipykernel_3344\\1061168072.py:1: DtypeWarning: Columns (3,4,5,6,12) have mixed types. Specify dtype option on import or set low_memory=False.\n",
      "  data = pd.read_csv(\"Salaries.csv\")\n"
     ]
    }
   ],
   "source": [
    "data = pd.read_csv(\"Salaries.csv\")"
   ]
  },
  {
   "cell_type": "markdown",
   "id": "e910e891",
   "metadata": {},
   "source": [
    "1.  Display Top 10 Rows of The Dataset\n"
   ]
  },
  {
   "cell_type": "code",
   "execution_count": 94,
   "id": "4dc50a41",
   "metadata": {},
   "outputs": [
    {
     "data": {
      "text/html": [
       "<div>\n",
       "<style scoped>\n",
       "    .dataframe tbody tr th:only-of-type {\n",
       "        vertical-align: middle;\n",
       "    }\n",
       "\n",
       "    .dataframe tbody tr th {\n",
       "        vertical-align: top;\n",
       "    }\n",
       "\n",
       "    .dataframe thead th {\n",
       "        text-align: right;\n",
       "    }\n",
       "</style>\n",
       "<table border=\"1\" class=\"dataframe\">\n",
       "  <thead>\n",
       "    <tr style=\"text-align: right;\">\n",
       "      <th></th>\n",
       "      <th>Id</th>\n",
       "      <th>EmployeeName</th>\n",
       "      <th>JobTitle</th>\n",
       "      <th>BasePay</th>\n",
       "      <th>OvertimePay</th>\n",
       "      <th>OtherPay</th>\n",
       "      <th>Benefits</th>\n",
       "      <th>TotalPay</th>\n",
       "      <th>TotalPayBenefits</th>\n",
       "      <th>Year</th>\n",
       "      <th>Notes</th>\n",
       "      <th>Agency</th>\n",
       "      <th>Status</th>\n",
       "    </tr>\n",
       "  </thead>\n",
       "  <tbody>\n",
       "    <tr>\n",
       "      <th>0</th>\n",
       "      <td>1</td>\n",
       "      <td>NATHANIEL FORD</td>\n",
       "      <td>GENERAL MANAGER-METROPOLITAN TRANSIT AUTHORITY</td>\n",
       "      <td>167411.18</td>\n",
       "      <td>0.0</td>\n",
       "      <td>400184.25</td>\n",
       "      <td>NaN</td>\n",
       "      <td>567595.43</td>\n",
       "      <td>567595.43</td>\n",
       "      <td>2011</td>\n",
       "      <td>NaN</td>\n",
       "      <td>San Francisco</td>\n",
       "      <td>NaN</td>\n",
       "    </tr>\n",
       "    <tr>\n",
       "      <th>1</th>\n",
       "      <td>2</td>\n",
       "      <td>GARY JIMENEZ</td>\n",
       "      <td>CAPTAIN III (POLICE DEPARTMENT)</td>\n",
       "      <td>155966.02</td>\n",
       "      <td>245131.88</td>\n",
       "      <td>137811.38</td>\n",
       "      <td>NaN</td>\n",
       "      <td>538909.28</td>\n",
       "      <td>538909.28</td>\n",
       "      <td>2011</td>\n",
       "      <td>NaN</td>\n",
       "      <td>San Francisco</td>\n",
       "      <td>NaN</td>\n",
       "    </tr>\n",
       "    <tr>\n",
       "      <th>2</th>\n",
       "      <td>3</td>\n",
       "      <td>ALBERT PARDINI</td>\n",
       "      <td>CAPTAIN III (POLICE DEPARTMENT)</td>\n",
       "      <td>212739.13</td>\n",
       "      <td>106088.18</td>\n",
       "      <td>16452.6</td>\n",
       "      <td>NaN</td>\n",
       "      <td>335279.91</td>\n",
       "      <td>335279.91</td>\n",
       "      <td>2011</td>\n",
       "      <td>NaN</td>\n",
       "      <td>San Francisco</td>\n",
       "      <td>NaN</td>\n",
       "    </tr>\n",
       "    <tr>\n",
       "      <th>3</th>\n",
       "      <td>4</td>\n",
       "      <td>CHRISTOPHER CHONG</td>\n",
       "      <td>WIRE ROPE CABLE MAINTENANCE MECHANIC</td>\n",
       "      <td>77916.0</td>\n",
       "      <td>56120.71</td>\n",
       "      <td>198306.9</td>\n",
       "      <td>NaN</td>\n",
       "      <td>332343.61</td>\n",
       "      <td>332343.61</td>\n",
       "      <td>2011</td>\n",
       "      <td>NaN</td>\n",
       "      <td>San Francisco</td>\n",
       "      <td>NaN</td>\n",
       "    </tr>\n",
       "    <tr>\n",
       "      <th>4</th>\n",
       "      <td>5</td>\n",
       "      <td>PATRICK GARDNER</td>\n",
       "      <td>DEPUTY CHIEF OF DEPARTMENT,(FIRE DEPARTMENT)</td>\n",
       "      <td>134401.6</td>\n",
       "      <td>9737.0</td>\n",
       "      <td>182234.59</td>\n",
       "      <td>NaN</td>\n",
       "      <td>326373.19</td>\n",
       "      <td>326373.19</td>\n",
       "      <td>2011</td>\n",
       "      <td>NaN</td>\n",
       "      <td>San Francisco</td>\n",
       "      <td>NaN</td>\n",
       "    </tr>\n",
       "    <tr>\n",
       "      <th>5</th>\n",
       "      <td>6</td>\n",
       "      <td>DAVID SULLIVAN</td>\n",
       "      <td>ASSISTANT DEPUTY CHIEF II</td>\n",
       "      <td>118602.0</td>\n",
       "      <td>8601.0</td>\n",
       "      <td>189082.74</td>\n",
       "      <td>NaN</td>\n",
       "      <td>316285.74</td>\n",
       "      <td>316285.74</td>\n",
       "      <td>2011</td>\n",
       "      <td>NaN</td>\n",
       "      <td>San Francisco</td>\n",
       "      <td>NaN</td>\n",
       "    </tr>\n",
       "    <tr>\n",
       "      <th>6</th>\n",
       "      <td>7</td>\n",
       "      <td>ALSON LEE</td>\n",
       "      <td>BATTALION CHIEF, (FIRE DEPARTMENT)</td>\n",
       "      <td>92492.01</td>\n",
       "      <td>89062.9</td>\n",
       "      <td>134426.14</td>\n",
       "      <td>NaN</td>\n",
       "      <td>315981.05</td>\n",
       "      <td>315981.05</td>\n",
       "      <td>2011</td>\n",
       "      <td>NaN</td>\n",
       "      <td>San Francisco</td>\n",
       "      <td>NaN</td>\n",
       "    </tr>\n",
       "    <tr>\n",
       "      <th>7</th>\n",
       "      <td>8</td>\n",
       "      <td>DAVID KUSHNER</td>\n",
       "      <td>DEPUTY DIRECTOR OF INVESTMENTS</td>\n",
       "      <td>256576.96</td>\n",
       "      <td>0.0</td>\n",
       "      <td>51322.5</td>\n",
       "      <td>NaN</td>\n",
       "      <td>307899.46</td>\n",
       "      <td>307899.46</td>\n",
       "      <td>2011</td>\n",
       "      <td>NaN</td>\n",
       "      <td>San Francisco</td>\n",
       "      <td>NaN</td>\n",
       "    </tr>\n",
       "    <tr>\n",
       "      <th>8</th>\n",
       "      <td>9</td>\n",
       "      <td>MICHAEL MORRIS</td>\n",
       "      <td>BATTALION CHIEF, (FIRE DEPARTMENT)</td>\n",
       "      <td>176932.64</td>\n",
       "      <td>86362.68</td>\n",
       "      <td>40132.23</td>\n",
       "      <td>NaN</td>\n",
       "      <td>303427.55</td>\n",
       "      <td>303427.55</td>\n",
       "      <td>2011</td>\n",
       "      <td>NaN</td>\n",
       "      <td>San Francisco</td>\n",
       "      <td>NaN</td>\n",
       "    </tr>\n",
       "    <tr>\n",
       "      <th>9</th>\n",
       "      <td>10</td>\n",
       "      <td>JOANNE HAYES-WHITE</td>\n",
       "      <td>CHIEF OF DEPARTMENT, (FIRE DEPARTMENT)</td>\n",
       "      <td>285262.0</td>\n",
       "      <td>0.0</td>\n",
       "      <td>17115.73</td>\n",
       "      <td>NaN</td>\n",
       "      <td>302377.73</td>\n",
       "      <td>302377.73</td>\n",
       "      <td>2011</td>\n",
       "      <td>NaN</td>\n",
       "      <td>San Francisco</td>\n",
       "      <td>NaN</td>\n",
       "    </tr>\n",
       "  </tbody>\n",
       "</table>\n",
       "</div>"
      ],
      "text/plain": [
       "   Id        EmployeeName                                        JobTitle  \\\n",
       "0   1      NATHANIEL FORD  GENERAL MANAGER-METROPOLITAN TRANSIT AUTHORITY   \n",
       "1   2        GARY JIMENEZ                 CAPTAIN III (POLICE DEPARTMENT)   \n",
       "2   3      ALBERT PARDINI                 CAPTAIN III (POLICE DEPARTMENT)   \n",
       "3   4   CHRISTOPHER CHONG            WIRE ROPE CABLE MAINTENANCE MECHANIC   \n",
       "4   5     PATRICK GARDNER    DEPUTY CHIEF OF DEPARTMENT,(FIRE DEPARTMENT)   \n",
       "5   6      DAVID SULLIVAN                       ASSISTANT DEPUTY CHIEF II   \n",
       "6   7           ALSON LEE              BATTALION CHIEF, (FIRE DEPARTMENT)   \n",
       "7   8       DAVID KUSHNER                  DEPUTY DIRECTOR OF INVESTMENTS   \n",
       "8   9      MICHAEL MORRIS              BATTALION CHIEF, (FIRE DEPARTMENT)   \n",
       "9  10  JOANNE HAYES-WHITE          CHIEF OF DEPARTMENT, (FIRE DEPARTMENT)   \n",
       "\n",
       "     BasePay OvertimePay   OtherPay Benefits   TotalPay  TotalPayBenefits  \\\n",
       "0  167411.18         0.0  400184.25      NaN  567595.43         567595.43   \n",
       "1  155966.02   245131.88  137811.38      NaN  538909.28         538909.28   \n",
       "2  212739.13   106088.18    16452.6      NaN  335279.91         335279.91   \n",
       "3    77916.0    56120.71   198306.9      NaN  332343.61         332343.61   \n",
       "4   134401.6      9737.0  182234.59      NaN  326373.19         326373.19   \n",
       "5   118602.0      8601.0  189082.74      NaN  316285.74         316285.74   \n",
       "6   92492.01     89062.9  134426.14      NaN  315981.05         315981.05   \n",
       "7  256576.96         0.0    51322.5      NaN  307899.46         307899.46   \n",
       "8  176932.64    86362.68   40132.23      NaN  303427.55         303427.55   \n",
       "9   285262.0         0.0   17115.73      NaN  302377.73         302377.73   \n",
       "\n",
       "   Year  Notes         Agency Status  \n",
       "0  2011    NaN  San Francisco    NaN  \n",
       "1  2011    NaN  San Francisco    NaN  \n",
       "2  2011    NaN  San Francisco    NaN  \n",
       "3  2011    NaN  San Francisco    NaN  \n",
       "4  2011    NaN  San Francisco    NaN  \n",
       "5  2011    NaN  San Francisco    NaN  \n",
       "6  2011    NaN  San Francisco    NaN  \n",
       "7  2011    NaN  San Francisco    NaN  \n",
       "8  2011    NaN  San Francisco    NaN  \n",
       "9  2011    NaN  San Francisco    NaN  "
      ]
     },
     "execution_count": 94,
     "metadata": {},
     "output_type": "execute_result"
    }
   ],
   "source": [
    "data.head(10)"
   ]
  },
  {
   "cell_type": "markdown",
   "id": "cee67314",
   "metadata": {},
   "source": [
    "2. Check Last 10 Rows of The Dataset\n"
   ]
  },
  {
   "cell_type": "code",
   "execution_count": 95,
   "id": "4fd74912",
   "metadata": {},
   "outputs": [
    {
     "data": {
      "text/html": [
       "<div>\n",
       "<style scoped>\n",
       "    .dataframe tbody tr th:only-of-type {\n",
       "        vertical-align: middle;\n",
       "    }\n",
       "\n",
       "    .dataframe tbody tr th {\n",
       "        vertical-align: top;\n",
       "    }\n",
       "\n",
       "    .dataframe thead th {\n",
       "        text-align: right;\n",
       "    }\n",
       "</style>\n",
       "<table border=\"1\" class=\"dataframe\">\n",
       "  <thead>\n",
       "    <tr style=\"text-align: right;\">\n",
       "      <th></th>\n",
       "      <th>Id</th>\n",
       "      <th>EmployeeName</th>\n",
       "      <th>JobTitle</th>\n",
       "      <th>BasePay</th>\n",
       "      <th>OvertimePay</th>\n",
       "      <th>OtherPay</th>\n",
       "      <th>Benefits</th>\n",
       "      <th>TotalPay</th>\n",
       "      <th>TotalPayBenefits</th>\n",
       "      <th>Year</th>\n",
       "      <th>Notes</th>\n",
       "      <th>Agency</th>\n",
       "      <th>Status</th>\n",
       "    </tr>\n",
       "  </thead>\n",
       "  <tbody>\n",
       "    <tr>\n",
       "      <th>148644</th>\n",
       "      <td>148645</td>\n",
       "      <td>Randy D Winn</td>\n",
       "      <td>Stationary Eng, Sewage Plant</td>\n",
       "      <td>0.00</td>\n",
       "      <td>0.00</td>\n",
       "      <td>0.00</td>\n",
       "      <td>0.00</td>\n",
       "      <td>0.00</td>\n",
       "      <td>0.00</td>\n",
       "      <td>2014</td>\n",
       "      <td>NaN</td>\n",
       "      <td>San Francisco</td>\n",
       "      <td>PT</td>\n",
       "    </tr>\n",
       "    <tr>\n",
       "      <th>148645</th>\n",
       "      <td>148646</td>\n",
       "      <td>Carolyn A Wilson</td>\n",
       "      <td>Human Services Technician</td>\n",
       "      <td>0.00</td>\n",
       "      <td>0.00</td>\n",
       "      <td>0.00</td>\n",
       "      <td>0.00</td>\n",
       "      <td>0.00</td>\n",
       "      <td>0.00</td>\n",
       "      <td>2014</td>\n",
       "      <td>NaN</td>\n",
       "      <td>San Francisco</td>\n",
       "      <td>PT</td>\n",
       "    </tr>\n",
       "    <tr>\n",
       "      <th>148646</th>\n",
       "      <td>148647</td>\n",
       "      <td>Not provided</td>\n",
       "      <td>Not provided</td>\n",
       "      <td>Not Provided</td>\n",
       "      <td>Not Provided</td>\n",
       "      <td>Not Provided</td>\n",
       "      <td>Not Provided</td>\n",
       "      <td>0.00</td>\n",
       "      <td>0.00</td>\n",
       "      <td>2014</td>\n",
       "      <td>NaN</td>\n",
       "      <td>San Francisco</td>\n",
       "      <td>NaN</td>\n",
       "    </tr>\n",
       "    <tr>\n",
       "      <th>148647</th>\n",
       "      <td>148648</td>\n",
       "      <td>Joann Anderson</td>\n",
       "      <td>Communications Dispatcher 2</td>\n",
       "      <td>0.00</td>\n",
       "      <td>0.00</td>\n",
       "      <td>0.00</td>\n",
       "      <td>0.00</td>\n",
       "      <td>0.00</td>\n",
       "      <td>0.00</td>\n",
       "      <td>2014</td>\n",
       "      <td>NaN</td>\n",
       "      <td>San Francisco</td>\n",
       "      <td>PT</td>\n",
       "    </tr>\n",
       "    <tr>\n",
       "      <th>148648</th>\n",
       "      <td>148649</td>\n",
       "      <td>Leon Walker</td>\n",
       "      <td>Custodian</td>\n",
       "      <td>0.00</td>\n",
       "      <td>0.00</td>\n",
       "      <td>0.00</td>\n",
       "      <td>0.00</td>\n",
       "      <td>0.00</td>\n",
       "      <td>0.00</td>\n",
       "      <td>2014</td>\n",
       "      <td>NaN</td>\n",
       "      <td>San Francisco</td>\n",
       "      <td>PT</td>\n",
       "    </tr>\n",
       "    <tr>\n",
       "      <th>148649</th>\n",
       "      <td>148650</td>\n",
       "      <td>Roy I Tillery</td>\n",
       "      <td>Custodian</td>\n",
       "      <td>0.00</td>\n",
       "      <td>0.00</td>\n",
       "      <td>0.00</td>\n",
       "      <td>0.00</td>\n",
       "      <td>0.00</td>\n",
       "      <td>0.00</td>\n",
       "      <td>2014</td>\n",
       "      <td>NaN</td>\n",
       "      <td>San Francisco</td>\n",
       "      <td>PT</td>\n",
       "    </tr>\n",
       "    <tr>\n",
       "      <th>148650</th>\n",
       "      <td>148651</td>\n",
       "      <td>Not provided</td>\n",
       "      <td>Not provided</td>\n",
       "      <td>Not Provided</td>\n",
       "      <td>Not Provided</td>\n",
       "      <td>Not Provided</td>\n",
       "      <td>Not Provided</td>\n",
       "      <td>0.00</td>\n",
       "      <td>0.00</td>\n",
       "      <td>2014</td>\n",
       "      <td>NaN</td>\n",
       "      <td>San Francisco</td>\n",
       "      <td>NaN</td>\n",
       "    </tr>\n",
       "    <tr>\n",
       "      <th>148651</th>\n",
       "      <td>148652</td>\n",
       "      <td>Not provided</td>\n",
       "      <td>Not provided</td>\n",
       "      <td>Not Provided</td>\n",
       "      <td>Not Provided</td>\n",
       "      <td>Not Provided</td>\n",
       "      <td>Not Provided</td>\n",
       "      <td>0.00</td>\n",
       "      <td>0.00</td>\n",
       "      <td>2014</td>\n",
       "      <td>NaN</td>\n",
       "      <td>San Francisco</td>\n",
       "      <td>NaN</td>\n",
       "    </tr>\n",
       "    <tr>\n",
       "      <th>148652</th>\n",
       "      <td>148653</td>\n",
       "      <td>Not provided</td>\n",
       "      <td>Not provided</td>\n",
       "      <td>Not Provided</td>\n",
       "      <td>Not Provided</td>\n",
       "      <td>Not Provided</td>\n",
       "      <td>Not Provided</td>\n",
       "      <td>0.00</td>\n",
       "      <td>0.00</td>\n",
       "      <td>2014</td>\n",
       "      <td>NaN</td>\n",
       "      <td>San Francisco</td>\n",
       "      <td>NaN</td>\n",
       "    </tr>\n",
       "    <tr>\n",
       "      <th>148653</th>\n",
       "      <td>148654</td>\n",
       "      <td>Joe Lopez</td>\n",
       "      <td>Counselor, Log Cabin Ranch</td>\n",
       "      <td>0.00</td>\n",
       "      <td>0.00</td>\n",
       "      <td>-618.13</td>\n",
       "      <td>0.00</td>\n",
       "      <td>-618.13</td>\n",
       "      <td>-618.13</td>\n",
       "      <td>2014</td>\n",
       "      <td>NaN</td>\n",
       "      <td>San Francisco</td>\n",
       "      <td>PT</td>\n",
       "    </tr>\n",
       "  </tbody>\n",
       "</table>\n",
       "</div>"
      ],
      "text/plain": [
       "            Id      EmployeeName                      JobTitle       BasePay  \\\n",
       "148644  148645      Randy D Winn  Stationary Eng, Sewage Plant          0.00   \n",
       "148645  148646  Carolyn A Wilson     Human Services Technician          0.00   \n",
       "148646  148647      Not provided                  Not provided  Not Provided   \n",
       "148647  148648    Joann Anderson   Communications Dispatcher 2          0.00   \n",
       "148648  148649       Leon Walker                     Custodian          0.00   \n",
       "148649  148650     Roy I Tillery                     Custodian          0.00   \n",
       "148650  148651      Not provided                  Not provided  Not Provided   \n",
       "148651  148652      Not provided                  Not provided  Not Provided   \n",
       "148652  148653      Not provided                  Not provided  Not Provided   \n",
       "148653  148654         Joe Lopez    Counselor, Log Cabin Ranch          0.00   \n",
       "\n",
       "         OvertimePay      OtherPay      Benefits  TotalPay  TotalPayBenefits  \\\n",
       "148644          0.00          0.00          0.00      0.00              0.00   \n",
       "148645          0.00          0.00          0.00      0.00              0.00   \n",
       "148646  Not Provided  Not Provided  Not Provided      0.00              0.00   \n",
       "148647          0.00          0.00          0.00      0.00              0.00   \n",
       "148648          0.00          0.00          0.00      0.00              0.00   \n",
       "148649          0.00          0.00          0.00      0.00              0.00   \n",
       "148650  Not Provided  Not Provided  Not Provided      0.00              0.00   \n",
       "148651  Not Provided  Not Provided  Not Provided      0.00              0.00   \n",
       "148652  Not Provided  Not Provided  Not Provided      0.00              0.00   \n",
       "148653          0.00       -618.13          0.00   -618.13           -618.13   \n",
       "\n",
       "        Year  Notes         Agency Status  \n",
       "148644  2014    NaN  San Francisco     PT  \n",
       "148645  2014    NaN  San Francisco     PT  \n",
       "148646  2014    NaN  San Francisco    NaN  \n",
       "148647  2014    NaN  San Francisco     PT  \n",
       "148648  2014    NaN  San Francisco     PT  \n",
       "148649  2014    NaN  San Francisco     PT  \n",
       "148650  2014    NaN  San Francisco    NaN  \n",
       "148651  2014    NaN  San Francisco    NaN  \n",
       "148652  2014    NaN  San Francisco    NaN  \n",
       "148653  2014    NaN  San Francisco     PT  "
      ]
     },
     "execution_count": 95,
     "metadata": {},
     "output_type": "execute_result"
    }
   ],
   "source": [
    "data.tail(10)"
   ]
  },
  {
   "cell_type": "markdown",
   "id": "7dbfe5af",
   "metadata": {},
   "source": [
    "3. Find Shape of Our Dataset (Number of Rows And Number of Columns)\n"
   ]
  },
  {
   "cell_type": "code",
   "execution_count": 96,
   "id": "bb5a5f29",
   "metadata": {},
   "outputs": [
    {
     "data": {
      "text/plain": [
       "(148654, 13)"
      ]
     },
     "execution_count": 96,
     "metadata": {},
     "output_type": "execute_result"
    }
   ],
   "source": [
    "data.shape"
   ]
  },
  {
   "cell_type": "markdown",
   "id": "53017f61",
   "metadata": {},
   "source": [
    "4.  Getting Information About Our Dataset Like Total Number Rows, Total Number of Columns, Datatypes of Each Column And Memory Requirement\n"
   ]
  },
  {
   "cell_type": "code",
   "execution_count": 97,
   "id": "853221b5",
   "metadata": {},
   "outputs": [
    {
     "name": "stdout",
     "output_type": "stream",
     "text": [
      "<class 'pandas.core.frame.DataFrame'>\n",
      "RangeIndex: 148654 entries, 0 to 148653\n",
      "Data columns (total 13 columns):\n",
      " #   Column            Non-Null Count   Dtype  \n",
      "---  ------            --------------   -----  \n",
      " 0   Id                148654 non-null  int64  \n",
      " 1   EmployeeName      148654 non-null  object \n",
      " 2   JobTitle          148654 non-null  object \n",
      " 3   BasePay           148049 non-null  object \n",
      " 4   OvertimePay       148654 non-null  object \n",
      " 5   OtherPay          148654 non-null  object \n",
      " 6   Benefits          112495 non-null  object \n",
      " 7   TotalPay          148654 non-null  float64\n",
      " 8   TotalPayBenefits  148654 non-null  float64\n",
      " 9   Year              148654 non-null  int64  \n",
      " 10  Notes             0 non-null       float64\n",
      " 11  Agency            148654 non-null  object \n",
      " 12  Status            38119 non-null   object \n",
      "dtypes: float64(3), int64(2), object(8)\n",
      "memory usage: 14.7+ MB\n"
     ]
    }
   ],
   "source": [
    "data.info()"
   ]
  },
  {
   "cell_type": "markdown",
   "id": "387533b7",
   "metadata": {},
   "source": [
    "5. Check Null Values In The Dataset\n"
   ]
  },
  {
   "cell_type": "code",
   "execution_count": 98,
   "id": "b3c305b7",
   "metadata": {},
   "outputs": [
    {
     "data": {
      "text/plain": [
       "Id                       0\n",
       "EmployeeName             0\n",
       "JobTitle                 0\n",
       "BasePay                605\n",
       "OvertimePay              0\n",
       "OtherPay                 0\n",
       "Benefits             36159\n",
       "TotalPay                 0\n",
       "TotalPayBenefits         0\n",
       "Year                     0\n",
       "Notes               148654\n",
       "Agency                   0\n",
       "Status              110535\n",
       "dtype: int64"
      ]
     },
     "execution_count": 98,
     "metadata": {},
     "output_type": "execute_result"
    }
   ],
   "source": [
    "data.isnull().sum()"
   ]
  },
  {
   "cell_type": "markdown",
   "id": "3076413c",
   "metadata": {},
   "source": [
    "6. Drop ID, Notes, Agency, and Status Columns\n"
   ]
  },
  {
   "cell_type": "code",
   "execution_count": 99,
   "id": "cc710e82",
   "metadata": {},
   "outputs": [],
   "source": [
    "data.drop([\"Id\",\"Notes\",\"Status\",\"Agency\"],axis = 1, inplace=True)"
   ]
  },
  {
   "cell_type": "markdown",
   "id": "43259d23",
   "metadata": {},
   "source": [
    "7. Get Overall Statistics About The Dataframe\n"
   ]
  },
  {
   "cell_type": "code",
   "execution_count": 100,
   "id": "5360f78d",
   "metadata": {},
   "outputs": [
    {
     "data": {
      "text/html": [
       "<div>\n",
       "<style scoped>\n",
       "    .dataframe tbody tr th:only-of-type {\n",
       "        vertical-align: middle;\n",
       "    }\n",
       "\n",
       "    .dataframe tbody tr th {\n",
       "        vertical-align: top;\n",
       "    }\n",
       "\n",
       "    .dataframe thead th {\n",
       "        text-align: right;\n",
       "    }\n",
       "</style>\n",
       "<table border=\"1\" class=\"dataframe\">\n",
       "  <thead>\n",
       "    <tr style=\"text-align: right;\">\n",
       "      <th></th>\n",
       "      <th>EmployeeName</th>\n",
       "      <th>JobTitle</th>\n",
       "      <th>BasePay</th>\n",
       "      <th>OvertimePay</th>\n",
       "      <th>OtherPay</th>\n",
       "      <th>Benefits</th>\n",
       "      <th>TotalPay</th>\n",
       "      <th>TotalPayBenefits</th>\n",
       "      <th>Year</th>\n",
       "    </tr>\n",
       "  </thead>\n",
       "  <tbody>\n",
       "    <tr>\n",
       "      <th>count</th>\n",
       "      <td>148654</td>\n",
       "      <td>148654</td>\n",
       "      <td>148049.0</td>\n",
       "      <td>148654.0</td>\n",
       "      <td>148654.0</td>\n",
       "      <td>112495.0</td>\n",
       "      <td>148654.000000</td>\n",
       "      <td>148654.000000</td>\n",
       "      <td>148654.000000</td>\n",
       "    </tr>\n",
       "    <tr>\n",
       "      <th>unique</th>\n",
       "      <td>110811</td>\n",
       "      <td>2159</td>\n",
       "      <td>109900.0</td>\n",
       "      <td>66555.0</td>\n",
       "      <td>84968.0</td>\n",
       "      <td>99635.0</td>\n",
       "      <td>NaN</td>\n",
       "      <td>NaN</td>\n",
       "      <td>NaN</td>\n",
       "    </tr>\n",
       "    <tr>\n",
       "      <th>top</th>\n",
       "      <td>Kevin Lee</td>\n",
       "      <td>Transit Operator</td>\n",
       "      <td>0.0</td>\n",
       "      <td>0.0</td>\n",
       "      <td>0.0</td>\n",
       "      <td>0.0</td>\n",
       "      <td>NaN</td>\n",
       "      <td>NaN</td>\n",
       "      <td>NaN</td>\n",
       "    </tr>\n",
       "    <tr>\n",
       "      <th>freq</th>\n",
       "      <td>13</td>\n",
       "      <td>7036</td>\n",
       "      <td>875.0</td>\n",
       "      <td>66103.0</td>\n",
       "      <td>35218.0</td>\n",
       "      <td>1053.0</td>\n",
       "      <td>NaN</td>\n",
       "      <td>NaN</td>\n",
       "      <td>NaN</td>\n",
       "    </tr>\n",
       "    <tr>\n",
       "      <th>mean</th>\n",
       "      <td>NaN</td>\n",
       "      <td>NaN</td>\n",
       "      <td>NaN</td>\n",
       "      <td>NaN</td>\n",
       "      <td>NaN</td>\n",
       "      <td>NaN</td>\n",
       "      <td>74768.321972</td>\n",
       "      <td>93692.554811</td>\n",
       "      <td>2012.522643</td>\n",
       "    </tr>\n",
       "    <tr>\n",
       "      <th>std</th>\n",
       "      <td>NaN</td>\n",
       "      <td>NaN</td>\n",
       "      <td>NaN</td>\n",
       "      <td>NaN</td>\n",
       "      <td>NaN</td>\n",
       "      <td>NaN</td>\n",
       "      <td>50517.005274</td>\n",
       "      <td>62793.533483</td>\n",
       "      <td>1.117538</td>\n",
       "    </tr>\n",
       "    <tr>\n",
       "      <th>min</th>\n",
       "      <td>NaN</td>\n",
       "      <td>NaN</td>\n",
       "      <td>NaN</td>\n",
       "      <td>NaN</td>\n",
       "      <td>NaN</td>\n",
       "      <td>NaN</td>\n",
       "      <td>-618.130000</td>\n",
       "      <td>-618.130000</td>\n",
       "      <td>2011.000000</td>\n",
       "    </tr>\n",
       "    <tr>\n",
       "      <th>25%</th>\n",
       "      <td>NaN</td>\n",
       "      <td>NaN</td>\n",
       "      <td>NaN</td>\n",
       "      <td>NaN</td>\n",
       "      <td>NaN</td>\n",
       "      <td>NaN</td>\n",
       "      <td>36168.995000</td>\n",
       "      <td>44065.650000</td>\n",
       "      <td>2012.000000</td>\n",
       "    </tr>\n",
       "    <tr>\n",
       "      <th>50%</th>\n",
       "      <td>NaN</td>\n",
       "      <td>NaN</td>\n",
       "      <td>NaN</td>\n",
       "      <td>NaN</td>\n",
       "      <td>NaN</td>\n",
       "      <td>NaN</td>\n",
       "      <td>71426.610000</td>\n",
       "      <td>92404.090000</td>\n",
       "      <td>2013.000000</td>\n",
       "    </tr>\n",
       "    <tr>\n",
       "      <th>75%</th>\n",
       "      <td>NaN</td>\n",
       "      <td>NaN</td>\n",
       "      <td>NaN</td>\n",
       "      <td>NaN</td>\n",
       "      <td>NaN</td>\n",
       "      <td>NaN</td>\n",
       "      <td>105839.135000</td>\n",
       "      <td>132876.450000</td>\n",
       "      <td>2014.000000</td>\n",
       "    </tr>\n",
       "    <tr>\n",
       "      <th>max</th>\n",
       "      <td>NaN</td>\n",
       "      <td>NaN</td>\n",
       "      <td>NaN</td>\n",
       "      <td>NaN</td>\n",
       "      <td>NaN</td>\n",
       "      <td>NaN</td>\n",
       "      <td>567595.430000</td>\n",
       "      <td>567595.430000</td>\n",
       "      <td>2014.000000</td>\n",
       "    </tr>\n",
       "  </tbody>\n",
       "</table>\n",
       "</div>"
      ],
      "text/plain": [
       "       EmployeeName          JobTitle   BasePay  OvertimePay  OtherPay  \\\n",
       "count        148654            148654  148049.0     148654.0  148654.0   \n",
       "unique       110811              2159  109900.0      66555.0   84968.0   \n",
       "top       Kevin Lee  Transit Operator       0.0          0.0       0.0   \n",
       "freq             13              7036     875.0      66103.0   35218.0   \n",
       "mean            NaN               NaN       NaN          NaN       NaN   \n",
       "std             NaN               NaN       NaN          NaN       NaN   \n",
       "min             NaN               NaN       NaN          NaN       NaN   \n",
       "25%             NaN               NaN       NaN          NaN       NaN   \n",
       "50%             NaN               NaN       NaN          NaN       NaN   \n",
       "75%             NaN               NaN       NaN          NaN       NaN   \n",
       "max             NaN               NaN       NaN          NaN       NaN   \n",
       "\n",
       "        Benefits       TotalPay  TotalPayBenefits           Year  \n",
       "count   112495.0  148654.000000     148654.000000  148654.000000  \n",
       "unique   99635.0            NaN               NaN            NaN  \n",
       "top          0.0            NaN               NaN            NaN  \n",
       "freq      1053.0            NaN               NaN            NaN  \n",
       "mean         NaN   74768.321972      93692.554811    2012.522643  \n",
       "std          NaN   50517.005274      62793.533483       1.117538  \n",
       "min          NaN    -618.130000       -618.130000    2011.000000  \n",
       "25%          NaN   36168.995000      44065.650000    2012.000000  \n",
       "50%          NaN   71426.610000      92404.090000    2013.000000  \n",
       "75%          NaN  105839.135000     132876.450000    2014.000000  \n",
       "max          NaN  567595.430000     567595.430000    2014.000000  "
      ]
     },
     "execution_count": 100,
     "metadata": {},
     "output_type": "execute_result"
    }
   ],
   "source": [
    "data.describe(include= \"all\")"
   ]
  },
  {
   "cell_type": "markdown",
   "id": "86616b7c",
   "metadata": {},
   "source": [
    "8. Find Occurrence of The Employee Names  (Top 5)\n"
   ]
  },
  {
   "cell_type": "code",
   "execution_count": 101,
   "id": "cf1cc6aa",
   "metadata": {},
   "outputs": [
    {
     "data": {
      "text/plain": [
       "EmployeeName\n",
       "Michael    2070\n",
       "John       1542\n",
       "David      1444\n",
       "James      1233\n",
       "Robert     1206\n",
       "Name: count, dtype: int64"
      ]
     },
     "execution_count": 101,
     "metadata": {},
     "output_type": "execute_result"
    }
   ],
   "source": [
    "data[\"EmployeeName\"].apply(lambda x:x.split(\" \")[0]).value_counts().head(5)"
   ]
  },
  {
   "cell_type": "markdown",
   "id": "34dc01f1",
   "metadata": {},
   "source": [
    "9. Find The Number of Unique Job Titles\n"
   ]
  },
  {
   "cell_type": "code",
   "execution_count": 102,
   "id": "0fee9466",
   "metadata": {},
   "outputs": [
    {
     "data": {
      "text/plain": [
       "2159"
      ]
     },
     "execution_count": 102,
     "metadata": {},
     "output_type": "execute_result"
    }
   ],
   "source": [
    "len(data['JobTitle'].value_counts())"
   ]
  },
  {
   "cell_type": "markdown",
   "id": "45cebc35",
   "metadata": {},
   "source": [
    "10.Total Number of Job Titles Contain Captain\n"
   ]
  },
  {
   "cell_type": "code",
   "execution_count": 103,
   "id": "af4b650c",
   "metadata": {},
   "outputs": [
    {
     "data": {
      "text/plain": [
       "552"
      ]
     },
     "execution_count": 103,
     "metadata": {},
     "output_type": "execute_result"
    }
   ],
   "source": [
    "len(data[data[\"JobTitle\"].str.contains(\"Captain\", case = False)])"
   ]
  },
  {
   "cell_type": "markdown",
   "id": "ea526c85",
   "metadata": {},
   "source": [
    "11. Display All the Employee Names From Fire Department\n"
   ]
  },
  {
   "cell_type": "code",
   "execution_count": 104,
   "id": "77598e96",
   "metadata": {},
   "outputs": [
    {
     "data": {
      "text/plain": [
       "4              PATRICK GARDNER\n",
       "6                    ALSON LEE\n",
       "8               MICHAEL MORRIS\n",
       "9           JOANNE HAYES-WHITE\n",
       "10               ARTHUR KENNEY\n",
       "                  ...         \n",
       "32623             JAMES BARDEN\n",
       "36162       Joanne Hayes-White\n",
       "72926     Joanne M Hayes-White\n",
       "102303          Robert E Evans\n",
       "110535    Joanne M Hayes-White\n",
       "Name: EmployeeName, Length: 226, dtype: object"
      ]
     },
     "execution_count": 104,
     "metadata": {},
     "output_type": "execute_result"
    }
   ],
   "source": [
    "data[data[\"JobTitle\"].str.contains(\"FIRE DEPARTMENT\", case = False)] [\"EmployeeName\"]"
   ]
  },
  {
   "cell_type": "markdown",
   "id": "a8df7f45",
   "metadata": {},
   "source": [
    "12. Find Minimum, Maximum, and Average BasePay\n"
   ]
  },
  {
   "cell_type": "code",
   "execution_count": 158,
   "id": "8e147be5",
   "metadata": {},
   "outputs": [
    {
     "data": {
      "text/plain": [
       "count    148045.000000\n",
       "mean      66325.448840\n",
       "std       42764.635495\n",
       "min        -166.010000\n",
       "25%       33588.200000\n",
       "50%       65007.450000\n",
       "75%       94691.050000\n",
       "max      319275.010000\n",
       "Name: BasePay, dtype: float64"
      ]
     },
     "execution_count": 158,
     "metadata": {},
     "output_type": "execute_result"
    }
   ],
   "source": [
    "data['BasePay'] = data['BasePay'].replace(\"Not provided\", np.nan)\n",
    "data['BasePay'].astype(float).describe()"
   ]
  },
  {
   "cell_type": "markdown",
   "id": "530e22e4",
   "metadata": {},
   "source": [
    "13. Replace 'Not Provided' in EmployeeName' Column to NaN \n"
   ]
  },
  {
   "cell_type": "code",
   "execution_count": 159,
   "id": "b9c7d391",
   "metadata": {},
   "outputs": [
    {
     "data": {
      "text/plain": [
       "0            NATHANIEL FORD\n",
       "1              GARY JIMENEZ\n",
       "2            ALBERT PARDINI\n",
       "3         CHRISTOPHER CHONG\n",
       "4           PATRICK GARDNER\n",
       "                ...        \n",
       "148649        Roy I Tillery\n",
       "148650                  NaN\n",
       "148651                  NaN\n",
       "148652                  NaN\n",
       "148653            Joe Lopez\n",
       "Name: EmployeeName, Length: 148654, dtype: object"
      ]
     },
     "execution_count": 159,
     "metadata": {},
     "output_type": "execute_result"
    }
   ],
   "source": [
    "data[\"EmployeeName\"] = data['EmployeeName'] = data['EmployeeName'].replace(\"Not provided\", np.nan)\n",
    "data[\"EmployeeName\"]\n"
   ]
  },
  {
   "cell_type": "markdown",
   "id": "2d256c34",
   "metadata": {},
   "source": [
    "14. Drop The Rows Having 5 Missing Values\n"
   ]
  },
  {
   "cell_type": "code",
   "execution_count": 186,
   "id": "c5985b1d",
   "metadata": {},
   "outputs": [],
   "source": [
    "data = data.replace(\"Not Provided\", np.nan)\n",
    "data.drop(data[data.isnull().sum(axis=1) == 5].index,axis=0, inplace=True)"
   ]
  },
  {
   "cell_type": "markdown",
   "id": "76d2899b",
   "metadata": {},
   "source": [
    "15. Find Job Title of ALBERT PARDINI\n"
   ]
  },
  {
   "cell_type": "code",
   "execution_count": 108,
   "id": "37de5fbe",
   "metadata": {},
   "outputs": [
    {
     "data": {
      "text/plain": [
       "36519    Captain 3\n",
       "Name: JobTitle, dtype: object"
      ]
     },
     "execution_count": 108,
     "metadata": {},
     "output_type": "execute_result"
    }
   ],
   "source": [
    "data[data[\"EmployeeName\"] == \"Albert Pardini\"] [\"JobTitle\"]"
   ]
  },
  {
   "cell_type": "markdown",
   "id": "6273e686",
   "metadata": {},
   "source": [
    "16. How Much ALBERT PARDINI Make (Include Benefits)?\n"
   ]
  },
  {
   "cell_type": "code",
   "execution_count": 193,
   "id": "f7ff4fd5",
   "metadata": {},
   "outputs": [
    {
     "data": {
      "text/plain": [
       "36519    253995.29\n",
       "Name: TotalPayBenefits, dtype: float64"
      ]
     },
     "execution_count": 193,
     "metadata": {},
     "output_type": "execute_result"
    }
   ],
   "source": [
    "data[data[\"EmployeeName\"] == \"Albert Pardini\"] [\"TotalPayBenefits\"]"
   ]
  },
  {
   "cell_type": "markdown",
   "id": "84b758d7",
   "metadata": {},
   "source": [
    "17. Display Name of The Person Having The Highest BasePay\n"
   ]
  },
  {
   "cell_type": "code",
   "execution_count": 219,
   "id": "33892b4b",
   "metadata": {},
   "outputs": [
    {
     "data": {
      "text/plain": [
       "72925    Gregory P Suhr\n",
       "Name: EmployeeName, dtype: object"
      ]
     },
     "execution_count": 219,
     "metadata": {},
     "output_type": "execute_result"
    }
   ],
   "source": [
    "data[data[\"BasePay\"].astype(float).max() == data[\"BasePay\"]] [\"EmployeeName\"]"
   ]
  },
  {
   "cell_type": "markdown",
   "id": "39e811cd",
   "metadata": {},
   "source": [
    "18. Find Average BasePay of All Employee Per Year\n"
   ]
  },
  {
   "cell_type": "code",
   "execution_count": 234,
   "id": "83e32dce",
   "metadata": {},
   "outputs": [
    {
     "ename": "TypeError",
     "evalue": "Expecting 'to_replace' to be either a scalar, array-like, dict or None, got invalid type 'type'",
     "output_type": "error",
     "traceback": [
      "\u001b[31m---------------------------------------------------------------------------\u001b[39m",
      "\u001b[31mTypeError\u001b[39m                                 Traceback (most recent call last)",
      "\u001b[32m~\\AppData\\Local\\Temp\\ipykernel_3344\\3537786511.py\u001b[39m in \u001b[36m?\u001b[39m\u001b[34m()\u001b[39m\n\u001b[32m----> \u001b[39m\u001b[32m1\u001b[39m data = data.replace(str, np.nan)\n\u001b[32m      2\u001b[39m data.groupby(\u001b[33m\"Year\"\u001b[39m).mean()\n",
      "\u001b[32mc:\\Users\\Kika\\AppData\\Local\\Programs\\Python\\Python313\\Lib\\site-packages\\pandas\\core\\generic.py\u001b[39m in \u001b[36m?\u001b[39m\u001b[34m(self, to_replace, value, inplace, limit, regex, method)\u001b[39m\n\u001b[32m   7954\u001b[39m             is_scalar(to_replace)\n\u001b[32m   7955\u001b[39m             \u001b[38;5;28;01mor\u001b[39;00m is_re_compilable(to_replace)\n\u001b[32m   7956\u001b[39m             \u001b[38;5;28;01mor\u001b[39;00m is_list_like(to_replace)\n\u001b[32m   7957\u001b[39m         ):\n\u001b[32m-> \u001b[39m\u001b[32m7958\u001b[39m             raise TypeError(\n\u001b[32m   7959\u001b[39m                 \u001b[33m\"Expecting 'to_replace' to be either a scalar, array-like, \"\u001b[39m\n\u001b[32m   7960\u001b[39m                 \u001b[33m\"dict or None, got invalid type \"\u001b[39m\n\u001b[32m   7961\u001b[39m                 f\"{repr(type(to_replace).__name__)}\"\n",
      "\u001b[31mTypeError\u001b[39m: Expecting 'to_replace' to be either a scalar, array-like, dict or None, got invalid type 'type'"
     ]
    }
   ],
   "source": [
    "data = data.replace(str, np.nan)\n",
    "data.groupby(\"Year\").mean()"
   ]
  },
  {
   "cell_type": "markdown",
   "id": "030a2ecc",
   "metadata": {},
   "source": [
    "19. Find Average BasePay of All Employee Per JobTitle \n",
    "20. Find Average BasePay of Employee Having Job Title ACCOUNTANT  \n",
    "21. Find Top 5 Most Common Jobs\n"
   ]
  },
  {
   "cell_type": "code",
   "execution_count": 143,
   "id": "3a2fcafd",
   "metadata": {},
   "outputs": [
    {
     "data": {
      "text/plain": [
       "JobTitle\n",
       "Transit Operator                7036\n",
       "Special Nurse                   4389\n",
       "Registered Nurse                3736\n",
       "Public Svc Aide-Public Works    2518\n",
       "Police Officer 3                2421\n",
       "Name: count, dtype: int64"
      ]
     },
     "execution_count": 143,
     "metadata": {},
     "output_type": "execute_result"
    }
   ],
   "source": [
    "data[\"JobTitle\"].value_counts().head(5)"
   ]
  },
  {
   "cell_type": "markdown",
   "id": "21982ade",
   "metadata": {},
   "source": []
  }
 ],
 "metadata": {
  "kernelspec": {
   "display_name": "Python 3",
   "language": "python",
   "name": "python3"
  },
  "language_info": {
   "codemirror_mode": {
    "name": "ipython",
    "version": 3
   },
   "file_extension": ".py",
   "mimetype": "text/x-python",
   "name": "python",
   "nbconvert_exporter": "python",
   "pygments_lexer": "ipython3",
   "version": "3.13.0"
  }
 },
 "nbformat": 4,
 "nbformat_minor": 5
}
