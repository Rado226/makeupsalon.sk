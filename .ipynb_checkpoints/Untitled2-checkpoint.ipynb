{
 "cells": [
  {
   "cell_type": "markdown",
   "id": "042634cd-5ba0-4ee3-aa54-5c1fdc59d61b",
   "metadata": {},
   "source": [
    "Začiatok tréningu"
   ]
  },
  {
   "cell_type": "code",
   "execution_count": 9,
   "id": "1ed8cfd9-3e51-457d-92e9-762160542835",
   "metadata": {},
   "outputs": [
    {
     "data": {
      "text/plain": [
       "array([0, 1, 2, 3, 4])"
      ]
     },
     "execution_count": 9,
     "metadata": {},
     "output_type": "execute_result"
    }
   ],
   "source": [
    "import numpy as np\n",
    "array = np.array(range(5))\n",
    "array"
   ]
  },
  {
   "cell_type": "code",
   "execution_count": 11,
   "id": "696cf2ce-729b-4ecf-967c-762ab7a25ecb",
   "metadata": {},
   "outputs": [],
   "source": [
    "from numpy.random import default_rng"
   ]
  },
  {
   "cell_type": "code",
   "execution_count": 2,
   "id": "cbd02e67-3e2b-4f63-84b9-85e3cf1e5aa7",
   "metadata": {},
   "outputs": [
    {
     "ename": "NameError",
     "evalue": "name 'np' is not defined",
     "output_type": "error",
     "traceback": [
      "\u001b[31m---------------------------------------------------------------------------\u001b[39m",
      "\u001b[31mNameError\u001b[39m                                 Traceback (most recent call last)",
      "\u001b[36mCell\u001b[39m\u001b[36m \u001b[39m\u001b[32mIn[2]\u001b[39m\u001b[32m, line 1\u001b[39m\n\u001b[32m----> \u001b[39m\u001b[32m1\u001b[39m array_2d = \u001b[43mnp\u001b[49m.array([\u001b[38;5;28mrange\u001b[39m(\u001b[32m5\u001b[39m),\u001b[38;5;28mrange\u001b[39m(\u001b[32m5\u001b[39m)])\n\u001b[32m      2\u001b[39m array_2d\n",
      "\u001b[31mNameError\u001b[39m: name 'np' is not defined"
     ]
    }
   ],
   "source": [
    "array_2d = np.array([range(5),range(5)])\n",
    "array_2d"
   ]
  },
  {
   "cell_type": "code",
   "execution_count": null,
   "id": "31ea7e83-9240-4918-83bc-d318c261e4e1",
   "metadata": {},
   "outputs": [],
   "source": [
    "array.shape"
   ]
  },
  {
   "cell_type": "code",
   "execution_count": null,
   "id": "12c00b3d-656e-4de7-8da7-a3a05230f96d",
   "metadata": {},
   "outputs": [],
   "source": [
    "array_2d.shape"
   ]
  },
  {
   "cell_type": "code",
   "execution_count": null,
   "id": "f857b981-bede-48fd-95b5-94d8e7bff3d6",
   "metadata": {},
   "outputs": [],
   "source": [
    "array.size"
   ]
  },
  {
   "cell_type": "code",
   "execution_count": null,
   "id": "b8447ab2-34d5-4181-aa48-49870b2c0c9b",
   "metadata": {},
   "outputs": [],
   "source": [
    "array_2d.size"
   ]
  },
  {
   "cell_type": "code",
   "execution_count": null,
   "id": "1bd7591b-ef7a-4643-a913-2997d0a9c980",
   "metadata": {},
   "outputs": [],
   "source": [
    "array_2d.T"
   ]
  },
  {
   "cell_type": "code",
   "execution_count": null,
   "id": "d6b344dd-21e1-4c39-b40f-6f263c10bd98",
   "metadata": {},
   "outputs": [],
   "source": [
    "array_2d.ndim"
   ]
  },
  {
   "cell_type": "code",
   "execution_count": null,
   "id": "256561aa-cba1-4a4a-8727-eceba0038156",
   "metadata": {
    "scrolled": true
   },
   "outputs": [],
   "source": [
    "array_2d.dtype"
   ]
  },
  {
   "cell_type": "markdown",
   "id": "8704c7ee-86ef-4165-97e2-51b9cfbd5295",
   "metadata": {},
   "source": [
    "Zadanie č.1. Prekonvertuj python list do np.array a vytvor výstup na základe size, shape, dtype, ndim (Bonus urob reshape na 10/1)"
   ]
  },
  {
   "cell_type": "code",
   "execution_count": null,
   "id": "8f87c780-a8f8-4121-9b6d-8252af8269cf",
   "metadata": {},
   "outputs": [],
   "source": [
    "my_list = [x * 10 for x in range(1,11)]\n",
    "my_list_update = np.array(my_list).reshape(10,1)\n",
    "my_list_update"
   ]
  },
  {
   "cell_type": "code",
   "execution_count": null,
   "id": "394f46a4-2af0-4548-acb0-4bacf672b8f2",
   "metadata": {},
   "outputs": [],
   "source": [
    "my_list_update.size"
   ]
  },
  {
   "cell_type": "code",
   "execution_count": null,
   "id": "9be27be7-608f-4021-9b71-3907630f84d1",
   "metadata": {},
   "outputs": [],
   "source": [
    "my_list_update.shape"
   ]
  },
  {
   "cell_type": "code",
   "execution_count": null,
   "id": "a8301062-e652-4e9f-b557-85efd62fa87e",
   "metadata": {},
   "outputs": [],
   "source": [
    "my_list_update.dtype"
   ]
  },
  {
   "cell_type": "code",
   "execution_count": null,
   "id": "6bf49d3c-ea89-4491-8347-14ec406e58d5",
   "metadata": {},
   "outputs": [],
   "source": [
    "my_list_update.ndim"
   ]
  },
  {
   "cell_type": "markdown",
   "id": "62bca326-2dd8-4e53-b2c2-aae5e420dc5a",
   "metadata": {},
   "source": [
    "Koniec zadania č.1."
   ]
  },
  {
   "cell_type": "markdown",
   "id": "cc19e752-4d78-401f-a1a9-36a07bdd8d84",
   "metadata": {},
   "source": [
    "Vytváranie array (ones, zeros, arange, linspace, reshape)"
   ]
  },
  {
   "cell_type": "code",
   "execution_count": null,
   "id": "95e5432f-b602-44a3-8e45-b68cf2b237d9",
   "metadata": {},
   "outputs": [],
   "source": [
    "np.ones(4,)"
   ]
  },
  {
   "cell_type": "code",
   "execution_count": null,
   "id": "1975503c-1cad-4704-9ce6-b1b52cd5a3ef",
   "metadata": {},
   "outputs": [],
   "source": [
    "np.zeros((2,5),dtype=int) #Ide aj float a podobne"
   ]
  },
  {
   "cell_type": "code",
   "execution_count": null,
   "id": "b0ee6152-afcd-409f-91ee-a489e77eb1fc",
   "metadata": {},
   "outputs": [],
   "source": [
    "np.arange(1,20,2) #Začni na 1 choď na 20 v kroku po 2"
   ]
  },
  {
   "cell_type": "code",
   "execution_count": null,
   "id": "c35b7e49-1153-44a0-8599-5c942ecad4f2",
   "metadata": {},
   "outputs": [],
   "source": [
    "np.linspace(0,100,5) #Začni na 1 choď na 100 a zober 5 hotnôt"
   ]
  },
  {
   "cell_type": "code",
   "execution_count": null,
   "id": "607b9ae4-3efc-4a6d-a7c5-93fb0639fe51",
   "metadata": {},
   "outputs": [],
   "source": [
    "np.arange(1,9,2)  #Bez reshape"
   ]
  },
  {
   "cell_type": "code",
   "execution_count": null,
   "id": "436ecaed-6f4f-430c-a9ee-cd580cf04e9c",
   "metadata": {},
   "outputs": [],
   "source": [
    "np.arange(1,9,2).reshape(2,2) #Po použití reshape"
   ]
  },
  {
   "cell_type": "code",
   "execution_count": null,
   "id": "cd99a5d4-12c9-44d5-930b-df88c7add8c5",
   "metadata": {},
   "outputs": [],
   "source": [
    "np.identity(5)"
   ]
  },
  {
   "cell_type": "markdown",
   "id": "ce9f9d85-ba14-4c8f-b7fa-4ee83197acd5",
   "metadata": {},
   "source": [
    "Importovanie Random"
   ]
  },
  {
   "cell_type": "code",
   "execution_count": null,
   "id": "6327ca08-254d-4112-a4a8-78f0dcc64e1c",
   "metadata": {},
   "outputs": [],
   "source": [
    "rng = default_rng(12345)\n",
    "random_array = rng.random(10)\n",
    "random_array # Vytvorí random číslo na základe seedu"
   ]
  },
  {
   "cell_type": "code",
   "execution_count": null,
   "id": "f053335c-38fb-4476-a0a0-51aa51ef62dd",
   "metadata": {},
   "outputs": [],
   "source": [
    "#Random na základe dtdev a median\n",
    "rng1 = default_rng(12345)\n",
    "mean, stdev = 5,1\n",
    "random_normal = rng1.normal(mean,stdev, size=10)\n",
    "random_normal"
   ]
  },
  {
   "cell_type": "code",
   "execution_count": null,
   "id": "1374877e-e398-40a4-9888-09edebd40f8f",
   "metadata": {},
   "outputs": [],
   "source": [
    "rng.integers(1,10,20) #Integers of 1 po 10 a chceme 20 hodnôt"
   ]
  },
  {
   "cell_type": "code",
   "execution_count": null,
   "id": "6b1c5eae-d08e-4aab-9119-70a5e663f75b",
   "metadata": {},
   "outputs": [],
   "source": [
    "#Lahší spôsob ako použiť random na základe medianu ak máme stálu hodnotu a nechceme ju vypisovať\n",
    "rng.normal(1,15,5) #median, stdev, počet"
   ]
  },
  {
   "cell_type": "markdown",
   "id": "794b42e4-a672-4a19-9aa7-6a3e040c83f6",
   "metadata": {},
   "source": [
    "Zadanie č.2 - Vytvor array na základe array1, ale prehod jeho hodnoty a následne vytvor random array 3x3 od 0 po 1 čísla"
   ]
  },
  {
   "cell_type": "code",
   "execution_count": null,
   "id": "062a8cc1-0f21-43ef-9d0e-0c9f21bf40fc",
   "metadata": {},
   "outputs": [],
   "source": [
    "array1 = np.linspace(10,100,10).reshape(5,2)  #Zápis základného array\n",
    "array1"
   ]
  },
  {
   "cell_type": "code",
   "execution_count": null,
   "id": "13b217e6-2c2c-4ff7-9ee2-755335b9f86d",
   "metadata": {},
   "outputs": [],
   "source": [
    "array1.reshape(10,1)  # Transponovaná matica hodnôt"
   ]
  },
  {
   "cell_type": "code",
   "execution_count": null,
   "id": "2203ff25-a9b8-4529-b8dd-e6f39c3ac73d",
   "metadata": {},
   "outputs": [],
   "source": [
    "rng = default_rng(12345)\n",
    "random_array = rng.random(9).reshape(3,3)  #random vytvára len náhodné čísla od 0 po 1 vždy\n",
    "random_array"
   ]
  },
  {
   "cell_type": "markdown",
   "id": "dbb3d19f-9681-4702-9eda-95906130d177",
   "metadata": {},
   "source": [
    "Koniec zadania 3. "
   ]
  },
  {
   "cell_type": "markdown",
   "id": "edd05f98-3c8a-4a92-a69e-dffbaa1d7f52",
   "metadata": {},
   "source": [
    "Indexing a slicing array"
   ]
  },
  {
   "cell_type": "code",
   "execution_count": null,
   "id": "ce865ab6-0e47-4d93-acfc-94502c85c398",
   "metadata": {},
   "outputs": [],
   "source": [
    "product_array = np.array([\"Jablko\",\"Hruška\", \"Med\", \"Zemla\",\"Auto\"])\n",
    "print(product_array[1])\n",
    "print(product_array[:2])"
   ]
  },
  {
   "cell_type": "code",
   "execution_count": null,
   "id": "97862876-977a-4689-a3f7-ecf65758768f",
   "metadata": {},
   "outputs": [],
   "source": [
    "product_array = np.array([\"Jablko\",\"Hruška\", \"Med\", \"Zemla\",\"Auto\",\"Dom\"])\n",
    "product_array"
   ]
  },
  {
   "cell_type": "code",
   "execution_count": null,
   "id": "3da185b9-28cc-4c0d-8d5f-c4df18539d67",
   "metadata": {},
   "outputs": [],
   "source": [
    "product_array_2d = np.array([\"Jablko\",\"Hruška\", \"Med\", \"Zemla\",\"Auto\",\"Dom\"]).reshape(3,2)\n",
    "product_array_2d[2,1]\n",
    "product_array_2d[1,:]"
   ]
  },
  {
   "cell_type": "code",
   "execution_count": null,
   "id": "8d8e41aa-8a13-4a8f-9bd1-918da09683ad",
   "metadata": {},
   "outputs": [],
   "source": [
    "product_array_2d[-1,-1] #Posledný element"
   ]
  },
  {
   "cell_type": "code",
   "execution_count": null,
   "id": "1d777e65-e3af-4846-a79c-11a365432d87",
   "metadata": {},
   "outputs": [],
   "source": [
    "product_array[::2] #Každý druhý element berieme "
   ]
  },
  {
   "cell_type": "code",
   "execution_count": null,
   "id": "c8ed5717-d102-44b3-b7aa-9898bf4ce5be",
   "metadata": {},
   "outputs": [],
   "source": [
    "product_array[:2] #Prvé 2 a usekne všetko ostatné"
   ]
  },
  {
   "cell_type": "code",
   "execution_count": null,
   "id": "6822867e-0320-4683-9158-7ab867e34e1c",
   "metadata": {},
   "outputs": [],
   "source": [
    "product_array[2:] #Usekne prvé 2 a všetko ostatné nechá"
   ]
  },
  {
   "cell_type": "markdown",
   "id": "805d6d65-7542-456b-9e1b-5680c0a6dfcf",
   "metadata": {},
   "source": [
    "Zadanie číslo 4. - vytvor random array ktorý ma 9 hodnôt a vytvor z neho 3x3. potom odsekni posledný row, následne zobvraz len posledný a zobraz hodnotu 2 hodnotu v 3 riadku"
   ]
  },
  {
   "cell_type": "code",
   "execution_count": 33,
   "id": "67517543-f5a0-43a2-be0b-b523f09245df",
   "metadata": {},
   "outputs": [
    {
     "data": {
      "text/plain": [
       "array([[0.22733602, 0.31675834, 0.79736546],\n",
       "       [0.67625467, 0.39110955, 0.33281393],\n",
       "       [0.59830875, 0.18673419, 0.67275604]])"
      ]
     },
     "execution_count": 33,
     "metadata": {},
     "output_type": "execute_result"
    }
   ],
   "source": [
    "rng = default_rng(12345)\n",
    "array_random = rng.random(9).reshape(3,3)\n",
    "array_random"
   ]
  },
  {
   "cell_type": "code",
   "execution_count": null,
   "id": "cc239a2e-6f58-4cb5-9551-0e3fe3d79d0e",
   "metadata": {},
   "outputs": [],
   "source": [
    "array[:2, :]"
   ]
  },
  {
   "cell_type": "code",
   "execution_count": null,
   "id": "e9a8f314-6d62-4d2a-bf9f-fb77ff43f747",
   "metadata": {},
   "outputs": [],
   "source": [
    "array[2:, :]"
   ]
  },
  {
   "cell_type": "code",
   "execution_count": null,
   "id": "55ac0052-032f-4433-b05f-e56fbd650ccb",
   "metadata": {},
   "outputs": [],
   "source": [
    "array[2:,1:2]"
   ]
  },
  {
   "cell_type": "code",
   "execution_count": null,
   "id": "67f20bf9-a6f8-4294-8e24-0c89d6592e36",
   "metadata": {},
   "outputs": [],
   "source": [
    "array[2,1] #Alebo takto to ide tiež "
   ]
  },
  {
   "cell_type": "markdown",
   "id": "0a2f4bb7-61b2-4620-875d-71d9cb9b726f",
   "metadata": {},
   "source": [
    "Operácie s vektorom / maticou"
   ]
  },
  {
   "cell_type": "code",
   "execution_count": 6,
   "id": "4dbed66d-6663-4aa4-ba0a-93a43f0dbd06",
   "metadata": {},
   "outputs": [
    {
     "data": {
      "text/plain": [
       "array([[2.22733602, 2.31675834, 2.79736546],\n",
       "       [2.67625467, 2.39110955, 2.33281393],\n",
       "       [2.59830875, 2.18673419, 2.67275604]])"
      ]
     },
     "execution_count": 6,
     "metadata": {},
     "output_type": "execute_result"
    }
   ],
   "source": [
    "array + 2"
   ]
  },
  {
   "cell_type": "code",
   "execution_count": 16,
   "id": "3e2cffef-b8e7-46e3-91f3-eea18e320575",
   "metadata": {},
   "outputs": [
    {
     "data": {
      "text/plain": [
       "array([35, 12, 39, 16, 11, 40, 32, 34, 49, 20])"
      ]
     },
     "execution_count": 16,
     "metadata": {},
     "output_type": "execute_result"
    }
   ],
   "source": [
    "rng = np.random.default_rng(12345)\n",
    "inventory = rng.integers(1,50,10)\n",
    "inventory"
   ]
  },
  {
   "cell_type": "code",
   "execution_count": 17,
   "id": "6ddacae5-cd62-4fbc-8828-bd5086e860f5",
   "metadata": {},
   "outputs": [
    {
     "data": {
      "text/plain": [
       "array([17.5,  6. , 19.5,  8. ,  5.5, 20. , 16. , 17. , 24.5, 10. ])"
      ]
     },
     "execution_count": 17,
     "metadata": {},
     "output_type": "execute_result"
    }
   ],
   "source": [
    "inventory/2"
   ]
  },
  {
   "cell_type": "code",
   "execution_count": 19,
   "id": "5e752586-3713-40ff-9936-097ab483a17e",
   "metadata": {},
   "outputs": [
    {
     "data": {
      "text/plain": [
       "array([8.86, 6.97, 3.26, 7.34, 2.2 , 0.82, 1.6 , 3.4 , 4.65, 2.66])"
      ]
     },
     "execution_count": 19,
     "metadata": {},
     "output_type": "execute_result"
    }
   ],
   "source": [
    "price = (rng.random(10)*10).round(2) #Random číslo od 0 po 1, násob 10, ich počet je 10 a zaokruhli na 2\n",
    "price"
   ]
  },
  {
   "cell_type": "code",
   "execution_count": 21,
   "id": "4d1fd12f-0d7e-485f-992e-bbce76ae450e",
   "metadata": {},
   "outputs": [
    {
     "data": {
      "text/plain": [
       "np.float64(1143.1699999999998)"
      ]
     },
     "execution_count": 21,
     "metadata": {},
     "output_type": "execute_result"
    }
   ],
   "source": [
    "(price * inventory).sum() #Násob a daj mi finálnu hodnotu"
   ]
  },
  {
   "cell_type": "markdown",
   "id": "fae8863a-da7b-4f3c-9622-f5df7b4ba708",
   "metadata": {},
   "source": [
    "Zadanie č.5. Vytvor prices array daj mu 6 hodnôt, pripočítaj cenu +5 za poštu ku všetkému, zober array_random dosad ho pod doscount_pot"
   ]
  },
  {
   "cell_type": "markdown",
   "id": "af51b911-afed-423d-ac7f-a97fd83c1508",
   "metadata": {},
   "source": [
    "Premeň ho na jeden riadok a skráť hodnoty, pot_oved celé - 1 aby si ziskal koľko sa zaplatí celkovo a potom zisti finalnu cenu"
   ]
  },
  {
   "cell_type": "code",
   "execution_count": 24,
   "id": "3dfbae4f-5144-4901-9794-deefdbc07787",
   "metadata": {},
   "outputs": [
    {
     "data": {
      "text/plain": [
       "array([ 5.99,  6.99, 22.49, 99.99,  4.99, 49.99])"
      ]
     },
     "execution_count": 24,
     "metadata": {},
     "output_type": "execute_result"
    }
   ],
   "source": [
    "prices = np.array([5.99,6.99,22.49,99.99,4.99,49.99])\n",
    "prices"
   ]
  },
  {
   "cell_type": "code",
   "execution_count": 26,
   "id": "a2bc7f22-b15b-4269-99f1-6b59a56af541",
   "metadata": {},
   "outputs": [
    {
     "data": {
      "text/plain": [
       "array([ 10.99,  11.99,  27.49, 104.99,   9.99,  54.99])"
      ]
     },
     "execution_count": 26,
     "metadata": {},
     "output_type": "execute_result"
    }
   ],
   "source": [
    "total = prices + 5\n",
    "total"
   ]
  },
  {
   "cell_type": "code",
   "execution_count": 48,
   "id": "e27d3f03-9099-4af5-847e-2cfc2f03046f",
   "metadata": {},
   "outputs": [
    {
     "data": {
      "text/plain": [
       "array([[0.22733602, 0.31675834, 0.79736546, 0.67625467, 0.39110955,\n",
       "        0.33281393]])"
      ]
     },
     "execution_count": 48,
     "metadata": {},
     "output_type": "execute_result"
    }
   ],
   "source": [
    "discount_pot = array_random[:2,:].reshape(1,6)\n",
    "discount_pot"
   ]
  },
  {
   "cell_type": "code",
   "execution_count": 49,
   "id": "95286e6b-6d12-4be3-8860-a5d3a3f3eb4d",
   "metadata": {},
   "outputs": [
    {
     "data": {
      "text/plain": [
       "array([[0.77266398, 0.68324166, 0.20263454, 0.32374533, 0.60889045,\n",
       "        0.66718607]])"
      ]
     },
     "execution_count": 49,
     "metadata": {},
     "output_type": "execute_result"
    }
   ],
   "source": [
    "pot_oved = 1 - discount_pot\n",
    "pot_oved"
   ]
  },
  {
   "cell_type": "code",
   "execution_count": 52,
   "id": "cc8904f3-10e2-4fde-8de1-d1afe0cb8ae9",
   "metadata": {},
   "outputs": [
    {
     "data": {
      "text/plain": [
       "array([[ 8.49,  8.19,  5.57, 33.99,  6.08, 36.69]])"
      ]
     },
     "execution_count": 52,
     "metadata": {},
     "output_type": "execute_result"
    }
   ],
   "source": [
    "final_oved = total * pot_oved\n",
    "final_oved.round(2)"
   ]
  },
  {
   "cell_type": "code",
   "execution_count": null,
   "id": "93b3aa41-e2b9-4b75-9a46-d489d89bc8e1",
   "metadata": {},
   "outputs": [],
   "source": []
  }
 ],
 "metadata": {
  "kernelspec": {
   "display_name": "Python 3 (ipykernel)",
   "language": "python",
   "name": "python3"
  },
  "language_info": {
   "codemirror_mode": {
    "name": "ipython",
    "version": 3
   },
   "file_extension": ".py",
   "mimetype": "text/x-python",
   "name": "python",
   "nbconvert_exporter": "python",
   "pygments_lexer": "ipython3",
   "version": "3.13.3"
  }
 },
 "nbformat": 4,
 "nbformat_minor": 5
}
